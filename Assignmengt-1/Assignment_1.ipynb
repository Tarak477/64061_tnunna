{
  "nbformat": 4,
  "nbformat_minor": 0,
  "metadata": {
    "colab": {
      "name": "Assignment-1.ipynb",
      "provenance": [],
      "collapsed_sections": []
    },
    "kernelspec": {
      "name": "python3",
      "display_name": "Python 3"
    },
    "language_info": {
      "name": "python"
    },
    "accelerator": "GPU"
  },
  "cells": [
    {
      "cell_type": "markdown",
      "source": [
        "**ASSIGNMENT-1**"
      ],
      "metadata": {
        "id": "Lzik2LlBXMS4"
      }
    },
    {
      "cell_type": "markdown",
      "source": [
        "Neural Networks"
      ],
      "metadata": {
        "id": "FjbnkxLWXbdw"
      }
    },
    {
      "cell_type": "markdown",
      "source": [
        "The library tensorflow.keras.datasets is used to load the IMDB Dataset in the workspace."
      ],
      "metadata": {
        "id": "NaRntDnAXkWu"
      }
    },
    {
      "cell_type": "code",
      "execution_count": 19,
      "metadata": {
        "id": "UYBJIsqNX1-p"
      },
      "outputs": [],
      "source": [
        "from tensorflow.keras.datasets import imdb\n",
        "(train_data, train_labels), (test_data, test_labels) = imdb.load_data(\n",
        "    num_words=10000)"
      ]
    },
    {
      "cell_type": "code",
      "source": [
        "train_data[0]\n",
        "train_labels[0]\n",
        "max([max(sequence) for sequence in train_data])"
      ],
      "metadata": {
        "colab": {
          "base_uri": "https://localhost:8080/"
        },
        "id": "ii837C24i7kx",
        "outputId": "0329d1bd-5fb7-4e43-a962-5e842b217b19"
      },
      "execution_count": 20,
      "outputs": [
        {
          "output_type": "execute_result",
          "data": {
            "text/plain": [
              "9999"
            ]
          },
          "metadata": {},
          "execution_count": 20
        }
      ]
    },
    {
      "cell_type": "markdown",
      "source": [
        "Decoding reviews back to text"
      ],
      "metadata": {
        "id": "QTz7TN06YCTj"
      }
    },
    {
      "cell_type": "code",
      "source": [
        "word_index = imdb.get_word_index()\n",
        "reverse_word_index = dict(\n",
        "    [(value, key) for (key, value) in word_index.items()])\n",
        "decoded_review = \" \".join(\n",
        "    [reverse_word_index.get(i - 3, \"?\") for i in train_data[0]])"
      ],
      "metadata": {
        "id": "pl0o3unWiUw2"
      },
      "execution_count": 3,
      "outputs": []
    },
    {
      "cell_type": "markdown",
      "source": [
        "The dataset is vectorized here by Create an all-zero matrix of shape (len(sequences), dimension)"
      ],
      "metadata": {
        "id": "tqypW6M1YMRC"
      }
    },
    {
      "cell_type": "code",
      "source": [
        "import numpy as np\n",
        "def vectorize_sequences(sequences, dimension=10000):\n",
        "    results = np.zeros((len(sequences), dimension))\n",
        "    for i, sequence in enumerate(sequences):\n",
        "        for j in sequence:\n",
        "            results[i, j] = 1.\n",
        "    return results"
      ],
      "metadata": {
        "id": "-y8e5gliX4Al"
      },
      "execution_count": 4,
      "outputs": []
    },
    {
      "cell_type": "markdown",
      "source": [
        "Vectorised Train & Test data"
      ],
      "metadata": {
        "id": "aCSSuw9qYfuk"
      }
    },
    {
      "cell_type": "code",
      "source": [
        "x_train = vectorize_sequences(train_data)\n",
        "x_test = vectorize_sequences(test_data)\n",
        "y_train = np.asarray(train_labels).astype(\"float32\")\n",
        "y_test = np.asarray(test_labels).astype(\"float32\")"
      ],
      "metadata": {
        "id": "1R8iVFPWh2e7"
      },
      "execution_count": 5,
      "outputs": []
    },
    {
      "cell_type": "markdown",
      "source": [
        "Building Model using Relu function"
      ],
      "metadata": {
        "id": "NAK4IXzqY7Bq"
      }
    },
    {
      "cell_type": "code",
      "source": [
        "from tensorflow import keras\n",
        "from tensorflow.keras import layers\n",
        "\n",
        "model = keras.Sequential([\n",
        "    layers.Dense(16, activation=\"relu\"),\n",
        "    layers.Dense(16, activation=\"relu\"),\n",
        "    layers.Dense(1, activation=\"sigmoid\")\n",
        "])"
      ],
      "metadata": {
        "id": "fAE_0VWejVCZ"
      },
      "execution_count": 6,
      "outputs": []
    },
    {
      "cell_type": "markdown",
      "source": [
        "Compiling the model"
      ],
      "metadata": {
        "id": "r5WHq4rUZdP7"
      }
    },
    {
      "cell_type": "code",
      "source": [
        "model.compile(optimizer=\"rmsprop\",\n",
        "              loss=\"binary_crossentropy\",\n",
        "              metrics=[\"accuracy\"])"
      ],
      "metadata": {
        "id": "mHdJPGnejXIX"
      },
      "execution_count": 7,
      "outputs": []
    },
    {
      "cell_type": "code",
      "source": [
        "x_val = x_train[:10000]\n",
        "partial_x_train = x_train[10000:]\n",
        "y_val = y_train[:10000]\n",
        "partial_y_train = y_train[10000:]"
      ],
      "metadata": {
        "id": "7yIta5c0jiUz"
      },
      "execution_count": 8,
      "outputs": []
    },
    {
      "cell_type": "markdown",
      "source": [
        "Train the model with batch size 512 and 20 epochs "
      ],
      "metadata": {
        "id": "GNOO5vpRZNBi"
      }
    },
    {
      "cell_type": "code",
      "source": [
        "history = model.fit(partial_x_train,\n",
        "                    partial_y_train,\n",
        "                    epochs=20,\n",
        "                    batch_size=512,\n",
        "                    validation_data=(x_val, y_val))"
      ],
      "metadata": {
        "colab": {
          "base_uri": "https://localhost:8080/"
        },
        "id": "HWp82rO2jvsI",
        "outputId": "c0b6d813-0094-499c-d8ad-6d2331db72ed"
      },
      "execution_count": 9,
      "outputs": [
        {
          "output_type": "stream",
          "name": "stdout",
          "text": [
            "Epoch 1/20\n",
            "30/30 [==============================] - 3s 46ms/step - loss: 0.5236 - accuracy: 0.7993 - val_loss: 0.3988 - val_accuracy: 0.8698\n",
            "Epoch 2/20\n",
            "30/30 [==============================] - 1s 26ms/step - loss: 0.3202 - accuracy: 0.9027 - val_loss: 0.3177 - val_accuracy: 0.8833\n",
            "Epoch 3/20\n",
            "30/30 [==============================] - 1s 21ms/step - loss: 0.2347 - accuracy: 0.9253 - val_loss: 0.2813 - val_accuracy: 0.8901\n",
            "Epoch 4/20\n",
            "30/30 [==============================] - 1s 22ms/step - loss: 0.1826 - accuracy: 0.9415 - val_loss: 0.2924 - val_accuracy: 0.8830\n",
            "Epoch 5/20\n",
            "30/30 [==============================] - 1s 22ms/step - loss: 0.1502 - accuracy: 0.9533 - val_loss: 0.2772 - val_accuracy: 0.8887\n",
            "Epoch 6/20\n",
            "30/30 [==============================] - 1s 25ms/step - loss: 0.1229 - accuracy: 0.9616 - val_loss: 0.3011 - val_accuracy: 0.8846\n",
            "Epoch 7/20\n",
            "30/30 [==============================] - 1s 22ms/step - loss: 0.1040 - accuracy: 0.9683 - val_loss: 0.3058 - val_accuracy: 0.8829\n",
            "Epoch 8/20\n",
            "30/30 [==============================] - 1s 21ms/step - loss: 0.0871 - accuracy: 0.9748 - val_loss: 0.3441 - val_accuracy: 0.8737\n",
            "Epoch 9/20\n",
            "30/30 [==============================] - 1s 21ms/step - loss: 0.0701 - accuracy: 0.9815 - val_loss: 0.3557 - val_accuracy: 0.8748\n",
            "Epoch 10/20\n",
            "30/30 [==============================] - 1s 22ms/step - loss: 0.0591 - accuracy: 0.9851 - val_loss: 0.3714 - val_accuracy: 0.8792\n",
            "Epoch 11/20\n",
            "30/30 [==============================] - 1s 25ms/step - loss: 0.0481 - accuracy: 0.9884 - val_loss: 0.3924 - val_accuracy: 0.8757\n",
            "Epoch 12/20\n",
            "30/30 [==============================] - 1s 21ms/step - loss: 0.0390 - accuracy: 0.9912 - val_loss: 0.4306 - val_accuracy: 0.8684\n",
            "Epoch 13/20\n",
            "30/30 [==============================] - 1s 25ms/step - loss: 0.0309 - accuracy: 0.9937 - val_loss: 0.4461 - val_accuracy: 0.8733\n",
            "Epoch 14/20\n",
            "30/30 [==============================] - 1s 22ms/step - loss: 0.0269 - accuracy: 0.9943 - val_loss: 0.4809 - val_accuracy: 0.8722\n",
            "Epoch 15/20\n",
            "30/30 [==============================] - 1s 25ms/step - loss: 0.0184 - accuracy: 0.9978 - val_loss: 0.5213 - val_accuracy: 0.8721\n",
            "Epoch 16/20\n",
            "30/30 [==============================] - 1s 22ms/step - loss: 0.0145 - accuracy: 0.9984 - val_loss: 0.5505 - val_accuracy: 0.8656\n",
            "Epoch 17/20\n",
            "30/30 [==============================] - 1s 22ms/step - loss: 0.0135 - accuracy: 0.9983 - val_loss: 0.5870 - val_accuracy: 0.8648\n",
            "Epoch 18/20\n",
            "30/30 [==============================] - 1s 22ms/step - loss: 0.0072 - accuracy: 0.9997 - val_loss: 0.6268 - val_accuracy: 0.8679\n",
            "Epoch 19/20\n",
            "30/30 [==============================] - 1s 25ms/step - loss: 0.0074 - accuracy: 0.9993 - val_loss: 0.6528 - val_accuracy: 0.8652\n",
            "Epoch 20/20\n",
            "30/30 [==============================] - 1s 21ms/step - loss: 0.0048 - accuracy: 0.9999 - val_loss: 0.7039 - val_accuracy: 0.8649\n"
          ]
        }
      ]
    },
    {
      "cell_type": "code",
      "source": [
        "history_dict = history.history\n",
        "history_dict.keys()"
      ],
      "metadata": {
        "colab": {
          "base_uri": "https://localhost:8080/"
        },
        "id": "E4xNXWslj5vL",
        "outputId": "0e311424-0ee9-4fc4-99b3-05801c473a3d"
      },
      "execution_count": 11,
      "outputs": [
        {
          "output_type": "execute_result",
          "data": {
            "text/plain": [
              "dict_keys(['loss', 'accuracy', 'val_loss', 'val_accuracy'])"
            ]
          },
          "metadata": {},
          "execution_count": 11
        }
      ]
    },
    {
      "cell_type": "markdown",
      "source": [
        "Plotting graph between Training and Validation loss"
      ],
      "metadata": {
        "id": "rNxwIL2lZuIY"
      }
    },
    {
      "cell_type": "code",
      "source": [
        "import matplotlib.pyplot as plt\n",
        "history_dict = history.history\n",
        "loss_values = history_dict[\"loss\"]\n",
        "val_loss_values = history_dict[\"val_loss\"]\n",
        "epochs = range(1, len(loss_values) + 1)\n",
        "plt.plot(epochs, loss_values, \"bo\", label=\"Training loss\")\n",
        "plt.plot(epochs, val_loss_values, \"b\", label=\"Validation loss\")\n",
        "plt.title(\"Training and validation loss\")\n",
        "plt.xlabel(\"Epochs\")\n",
        "plt.ylabel(\"Loss\")\n",
        "plt.legend()\n",
        "plt.show()"
      ],
      "metadata": {
        "colab": {
          "base_uri": "https://localhost:8080/",
          "height": 295
        },
        "id": "-Ua_e--Kj-2Z",
        "outputId": "aa55ecb4-b94b-4244-acf3-cf9e32950813"
      },
      "execution_count": 10,
      "outputs": [
        {
          "output_type": "display_data",
          "data": {
            "image/png": "[encoded data removed]",
            "text/plain": [
              "<Figure size 432x288 with 1 Axes>"
            ]
          },
          "metadata": {
            "needs_background": "light"
          }
        }
      ]
    },
    {
      "cell_type": "markdown",
      "source": [
        "Plotting graph between Training and Validation Accuracy"
      ],
      "metadata": {
        "id": "kl1m3XX7Z7zY"
      }
    },
    {
      "cell_type": "code",
      "source": [
        "plt.clf()\n",
        "acc = history_dict[\"accuracy\"]\n",
        "val_acc = history_dict[\"val_accuracy\"]\n",
        "plt.plot(epochs, acc, \"bo\", label=\"Training accuracy\")\n",
        "plt.plot(epochs, val_acc, \"b\", label=\"Validation accuracy\")\n",
        "plt.title(\"Training and validation accuracy\")\n",
        "plt.xlabel(\"Epochs\")\n",
        "plt.ylabel(\"Accuracy\")\n",
        "plt.legend()\n",
        "plt.show()"
      ],
      "metadata": {
        "colab": {
          "base_uri": "https://localhost:8080/",
          "height": 295
        },
        "id": "V9lIob72kNMq",
        "outputId": "e8c386c5-e6a2-4e95-f0f3-e4ed232684de"
      },
      "execution_count": 13,
      "outputs": [
        {
          "output_type": "display_data",
          "data": {
            "image/png": "[encoded data removed]",
            "text/plain": [
              "<Figure size 432x288 with 1 Axes>"
            ]
          },
          "metadata": {
            "needs_background": "light"
          }
        }
      ]
    },
    {
      "cell_type": "markdown",
      "source": [
        "Training the model from scratch"
      ],
      "metadata": {
        "id": "jozS9rhQajQd"
      }
    },
    {
      "cell_type": "code",
      "source": [
        "model = keras.Sequential([\n",
        "    layers.Dense(16, activation=\"relu\"),\n",
        "    layers.Dense(16, activation=\"relu\"),\n",
        "    layers.Dense(1, activation=\"sigmoid\")\n",
        "])\n",
        "model.compile(optimizer=\"rmsprop\",\n",
        "              loss=\"binary_crossentropy\",\n",
        "              metrics=[\"accuracy\"])\n",
        "model.fit(x_train, y_train, epochs=4, batch_size=512)\n",
        "results = model.evaluate(x_test, y_test)"
      ],
      "metadata": {
        "colab": {
          "base_uri": "https://localhost:8080/"
        },
        "id": "1RgVLGDhkpCt",
        "outputId": "ada476e0-fb3a-4a70-eb59-52ebf1022b40"
      },
      "execution_count": 14,
      "outputs": [
        {
          "output_type": "stream",
          "name": "stdout",
          "text": [
            "Epoch 1/4\n",
            "49/49 [==============================] - 2s 28ms/step - loss: 0.4533 - accuracy: 0.8190\n",
            "Epoch 2/4\n",
            "49/49 [==============================] - 1s 29ms/step - loss: 0.2584 - accuracy: 0.9112\n",
            "Epoch 3/4\n",
            "49/49 [==============================] - 1s 29ms/step - loss: 0.1983 - accuracy: 0.9306\n",
            "Epoch 4/4\n",
            "49/49 [==============================] - 1s 29ms/step - loss: 0.1704 - accuracy: 0.9398\n",
            "782/782 [==============================] - 2s 2ms/step - loss: 0.3019 - accuracy: 0.8808\n"
          ]
        }
      ]
    },
    {
      "cell_type": "code",
      "source": [
        "results\n"
      ],
      "metadata": {
        "colab": {
          "base_uri": "https://localhost:8080/"
        },
        "id": "QmRByVylkyS3",
        "outputId": "20c99ac7-d23b-4c3a-98c2-4c5be0f318a2"
      },
      "execution_count": null,
      "outputs": [
        {
          "output_type": "execute_result",
          "data": {
            "text/plain": [
              "[0.29128843545913696, 0.8845199942588806]"
            ]
          },
          "metadata": {},
          "execution_count": 20
        }
      ]
    },
    {
      "cell_type": "code",
      "source": [
        "model.predict(x_test)"
      ],
      "metadata": {
        "colab": {
          "base_uri": "https://localhost:8080/"
        },
        "id": "OK8tqTnFlIxt",
        "outputId": "49da108d-1539-42e0-9d9f-56a9ca183ebe"
      },
      "execution_count": null,
      "outputs": [
        {
          "output_type": "execute_result",
          "data": {
            "text/plain": [
              "array([[0.25194812],\n",
              "       [0.99962604],\n",
              "       [0.8512005 ],\n",
              "       ...,\n",
              "       [0.2227275 ],\n",
              "       [0.09397554],\n",
              "       [0.7233315 ]], dtype=float32)"
            ]
          },
          "metadata": {},
          "execution_count": 21
        }
      ]
    },
    {
      "cell_type": "markdown",
      "source": [
        "Model-2"
      ],
      "metadata": {
        "id": "xyyUBbVLpgpU"
      }
    },
    {
      "cell_type": "code",
      "source": [
        "model_2 = keras.Sequential([\n",
        "    layers.Dense(16, activation=\"relu\"),\n",
        "    layers.Dense(16, activation=\"relu\"),\n",
        "    layers.Dense(1, activation=\"sigmoid\")\n",
        "])\n",
        "model_2.compile(optimizer=\"rmsprop\",\n",
        "              loss=\"binary_crossentropy\",\n",
        "              metrics=[\"accuracy\"])\n",
        "model_2.fit(x_train, y_train, epochs=5, batch_size=512)\n",
        "results = model_2.evaluate(x_test, y_test)"
      ],
      "metadata": {
        "colab": {
          "base_uri": "https://localhost:8080/"
        },
        "id": "-_MjXYGfpdQX",
        "outputId": "6f62300c-de9e-4618-94b2-2cc5166ee88d"
      },
      "execution_count": null,
      "outputs": [
        {
          "output_type": "stream",
          "name": "stdout",
          "text": [
            "Epoch 1/5\n",
            "49/49 [==============================] - 2s 33ms/step - loss: 0.4893 - accuracy: 0.8180\n",
            "Epoch 2/5\n",
            "49/49 [==============================] - 2s 33ms/step - loss: 0.2778 - accuracy: 0.9056\n",
            "Epoch 3/5\n",
            "49/49 [==============================] - 2s 33ms/step - loss: 0.2097 - accuracy: 0.9258\n",
            "Epoch 4/5\n",
            "49/49 [==============================] - 2s 33ms/step - loss: 0.1742 - accuracy: 0.9381\n",
            "Epoch 5/5\n",
            "49/49 [==============================] - 2s 32ms/step - loss: 0.1483 - accuracy: 0.9484\n",
            "782/782 [==============================] - 2s 2ms/step - loss: 0.3111 - accuracy: 0.8792\n"
          ]
        }
      ]
    },
    {
      "cell_type": "code",
      "source": [
        "results"
      ],
      "metadata": {
        "colab": {
          "base_uri": "https://localhost:8080/"
        },
        "id": "eWuP3Horp6Kv",
        "outputId": "209cf565-5794-488f-854a-7827bb485788"
      },
      "execution_count": null,
      "outputs": [
        {
          "output_type": "execute_result",
          "data": {
            "text/plain": [
              "[0.31107252836227417, 0.8792399764060974]"
            ]
          },
          "metadata": {},
          "execution_count": 26
        }
      ]
    },
    {
      "cell_type": "markdown",
      "source": [
        "Model-1.1\n",
        "Trained with 3 layers"
      ],
      "metadata": {
        "id": "jLV6H6Ljp1Zx"
      }
    },
    {
      "cell_type": "code",
      "source": [
        "model_11 = keras.Sequential([\n",
        "    layers.Dense(16, activation=\"relu\"),\n",
        "    layers.Dense(16, activation=\"relu\"),\n",
        "    layers.Dense(16, activation=\"relu\"),\n",
        "    layers.Dense(1, activation=\"sigmoid\")\n",
        "])\n",
        "model_11.compile(optimizer=\"rmsprop\",\n",
        "              loss=\"binary_crossentropy\",\n",
        "              metrics=[\"accuracy\"])\n",
        "history3 = model_11.fit(partial_x_train,\n",
        "                    partial_y_train,\n",
        "                    epochs=20,\n",
        "                    batch_size=512,\n",
        "                    validation_data=(x_val, y_val))\n",
        "history_dict3 = history3.history\n",
        "history_dict3.keys()"
      ],
      "metadata": {
        "colab": {
          "base_uri": "https://localhost:8080/"
        },
        "id": "mgisECHRp_qv",
        "outputId": "b4562b6c-b145-452c-c127-0b4a33e3c725"
      },
      "execution_count": 18,
      "outputs": [
        {
          "output_type": "stream",
          "name": "stdout",
          "text": [
            "Epoch 1/20\n",
            "30/30 [==============================] - 2s 36ms/step - loss: 0.5278 - accuracy: 0.7671 - val_loss: 0.3860 - val_accuracy: 0.8618\n",
            "Epoch 2/20\n",
            "30/30 [==============================] - 1s 25ms/step - loss: 0.2962 - accuracy: 0.9016 - val_loss: 0.3125 - val_accuracy: 0.8755\n",
            "Epoch 3/20\n",
            "30/30 [==============================] - 1s 22ms/step - loss: 0.2148 - accuracy: 0.9273 - val_loss: 0.2778 - val_accuracy: 0.8890\n",
            "Epoch 4/20\n",
            "30/30 [==============================] - 1s 22ms/step - loss: 0.1689 - accuracy: 0.9429 - val_loss: 0.2874 - val_accuracy: 0.8857\n",
            "Epoch 5/20\n",
            "30/30 [==============================] - 1s 23ms/step - loss: 0.1314 - accuracy: 0.9586 - val_loss: 0.2978 - val_accuracy: 0.8841\n",
            "Epoch 6/20\n",
            "30/30 [==============================] - 1s 23ms/step - loss: 0.1144 - accuracy: 0.9623 - val_loss: 0.3190 - val_accuracy: 0.8810\n",
            "Epoch 7/20\n",
            "30/30 [==============================] - 1s 22ms/step - loss: 0.0866 - accuracy: 0.9758 - val_loss: 0.3510 - val_accuracy: 0.8775\n",
            "Epoch 8/20\n",
            "30/30 [==============================] - 1s 21ms/step - loss: 0.0729 - accuracy: 0.9785 - val_loss: 0.4272 - val_accuracy: 0.8624\n",
            "Epoch 9/20\n",
            "30/30 [==============================] - 1s 25ms/step - loss: 0.0580 - accuracy: 0.9849 - val_loss: 0.3802 - val_accuracy: 0.8771\n",
            "Epoch 10/20\n",
            "30/30 [==============================] - 1s 22ms/step - loss: 0.0443 - accuracy: 0.9895 - val_loss: 0.4175 - val_accuracy: 0.8757\n",
            "Epoch 11/20\n",
            "30/30 [==============================] - 1s 25ms/step - loss: 0.0361 - accuracy: 0.9901 - val_loss: 0.4534 - val_accuracy: 0.8727\n",
            "Epoch 12/20\n",
            "30/30 [==============================] - 1s 22ms/step - loss: 0.0234 - accuracy: 0.9957 - val_loss: 0.6552 - val_accuracy: 0.8445\n",
            "Epoch 13/20\n",
            "30/30 [==============================] - 1s 22ms/step - loss: 0.0274 - accuracy: 0.9914 - val_loss: 0.5240 - val_accuracy: 0.8706\n",
            "Epoch 14/20\n",
            "30/30 [==============================] - 1s 22ms/step - loss: 0.0099 - accuracy: 0.9992 - val_loss: 0.5558 - val_accuracy: 0.8698\n",
            "Epoch 15/20\n",
            "30/30 [==============================] - 1s 22ms/step - loss: 0.0167 - accuracy: 0.9958 - val_loss: 0.5937 - val_accuracy: 0.8701\n",
            "Epoch 16/20\n",
            "30/30 [==============================] - 1s 26ms/step - loss: 0.0051 - accuracy: 0.9997 - val_loss: 0.6452 - val_accuracy: 0.8641\n",
            "Epoch 17/20\n",
            "30/30 [==============================] - 1s 22ms/step - loss: 0.0149 - accuracy: 0.9957 - val_loss: 0.6649 - val_accuracy: 0.8674\n",
            "Epoch 18/20\n",
            "30/30 [==============================] - 1s 22ms/step - loss: 0.0026 - accuracy: 0.9999 - val_loss: 0.6978 - val_accuracy: 0.8668\n",
            "Epoch 19/20\n",
            "30/30 [==============================] - 1s 23ms/step - loss: 0.0111 - accuracy: 0.9967 - val_loss: 0.7407 - val_accuracy: 0.8653\n",
            "Epoch 20/20\n",
            "30/30 [==============================] - 1s 22ms/step - loss: 0.0013 - accuracy: 1.0000 - val_loss: 0.7655 - val_accuracy: 0.8641\n"
          ]
        },
        {
          "output_type": "execute_result",
          "data": {
            "text/plain": [
              "dict_keys(['loss', 'accuracy', 'val_loss', 'val_accuracy'])"
            ]
          },
          "metadata": {},
          "execution_count": 18
        }
      ]
    },
    {
      "cell_type": "markdown",
      "source": [
        "Plotting graph between Training and Validation loss"
      ],
      "metadata": {
        "id": "anEk4e0qbXwB"
      }
    },
    {
      "cell_type": "code",
      "source": [
        "loss_values = history_dict3[\"loss\"]\n",
        "val_loss_values = history_dict3[\"val_loss\"]\n",
        "epochs = range(1, len(loss_values) + 1)\n",
        "plt.plot(epochs, loss_values, \"bo\", label=\"Training loss\")\n",
        "plt.plot(epochs, val_loss_values, \"b\", label=\"Validation loss\")\n",
        "plt.title(\"Training and validation loss\")\n",
        "plt.xlabel(\"Epochs\")\n",
        "plt.ylabel(\"Loss\")\n",
        "plt.legend()\n",
        "plt.show()"
      ],
      "metadata": {
        "colab": {
          "base_uri": "https://localhost:8080/",
          "height": 295
        },
        "id": "bVGQeeot2HvY",
        "outputId": "2255c9fc-290e-416b-eda3-01462d4b1f8a"
      },
      "execution_count": 16,
      "outputs": [
        {
          "output_type": "display_data",
          "data": {
            "image/png": "[encoded data removed]",
            "text/plain": [
              "<Figure size 432x288 with 1 Axes>"
            ]
          },
          "metadata": {
            "needs_background": "light"
          }
        }
      ]
    },
    {
      "cell_type": "markdown",
      "source": [
        "Plotting graph between Training and Validation accuracy"
      ],
      "metadata": {
        "id": "B8pkT_xjbkWS"
      }
    },
    {
      "cell_type": "code",
      "source": [
        "plt.clf()\n",
        "acc = history_dict3[\"accuracy\"]\n",
        "val_acc = history_dict3[\"val_accuracy\"]\n",
        "plt.plot(epochs, acc, \"bo\", label=\"Training acc\")\n",
        "plt.plot(epochs, val_acc, \"b\", label=\"Validation acc\")\n",
        "plt.title(\"Training and validation accuracy\")\n",
        "plt.xlabel(\"Epochs\")\n",
        "plt.ylabel(\"Accuracy\")\n",
        "plt.legend()\n",
        "plt.show()"
      ],
      "metadata": {
        "colab": {
          "base_uri": "https://localhost:8080/",
          "height": 295
        },
        "id": "5Su8pf_o2dYv",
        "outputId": "e935b9ba-79ff-49ee-b25a-70e4eca3b5d7"
      },
      "execution_count": 17,
      "outputs": [
        {
          "output_type": "display_data",
          "data": {
            "image/png": "[encoded data removed]",
            "text/plain": [
              "<Figure size 432x288 with 1 Axes>"
            ]
          },
          "metadata": {
            "needs_background": "light"
          }
        }
      ]
    },
    {
      "cell_type": "code",
      "source": [
        "model_11.fit(x_train, y_train, epochs=12, batch_size=512)\n",
        "results_M11 = model.evaluate(x_test, y_test)\n",
        "results_M11"
      ],
      "metadata": {
        "colab": {
          "base_uri": "https://localhost:8080/"
        },
        "id": "xgcvGOv02qk3",
        "outputId": "bf6bd60b-64c5-4823-f716-8c5d1e4a2251"
      },
      "execution_count": 18,
      "outputs": [
        {
          "output_type": "stream",
          "name": "stdout",
          "text": [
            "Epoch 1/12\n",
            "49/49 [==============================] - 1s 30ms/step - loss: 0.2494 - accuracy: 0.9440\n",
            "Epoch 2/12\n",
            "49/49 [==============================] - 1s 30ms/step - loss: 0.1380 - accuracy: 0.9595\n",
            "Epoch 3/12\n",
            "49/49 [==============================] - 1s 29ms/step - loss: 0.1073 - accuracy: 0.9679\n",
            "Epoch 4/12\n",
            "49/49 [==============================] - 1s 30ms/step - loss: 0.0855 - accuracy: 0.9734\n",
            "Epoch 5/12\n",
            "49/49 [==============================] - 1s 30ms/step - loss: 0.0673 - accuracy: 0.9793\n",
            "Epoch 6/12\n",
            "49/49 [==============================] - 1s 29ms/step - loss: 0.0502 - accuracy: 0.9860\n",
            "Epoch 7/12\n",
            "49/49 [==============================] - 1s 29ms/step - loss: 0.0400 - accuracy: 0.9886\n",
            "Epoch 8/12\n",
            "49/49 [==============================] - 1s 29ms/step - loss: 0.0282 - accuracy: 0.9924\n",
            "Epoch 9/12\n",
            "49/49 [==============================] - 1s 29ms/step - loss: 0.0212 - accuracy: 0.9942\n",
            "Epoch 10/12\n",
            "49/49 [==============================] - 1s 29ms/step - loss: 0.0160 - accuracy: 0.9956\n",
            "Epoch 11/12\n",
            "49/49 [==============================] - 1s 29ms/step - loss: 0.0141 - accuracy: 0.9960\n",
            "Epoch 12/12\n",
            "49/49 [==============================] - 1s 30ms/step - loss: 0.0081 - accuracy: 0.9973\n",
            "782/782 [==============================] - 2s 2ms/step - loss: 0.3019 - accuracy: 0.8808\n"
          ]
        },
        {
          "output_type": "execute_result",
          "data": {
            "text/plain": [
              "[0.301872193813324, 0.8808000087738037]"
            ]
          },
          "metadata": {},
          "execution_count": 18
        }
      ]
    },
    {
      "cell_type": "markdown",
      "source": [
        "HYPERTUNING"
      ],
      "metadata": {
        "id": "SO2hrMHC29hU"
      }
    },
    {
      "cell_type": "markdown",
      "source": [
        "Training the model with 32-Units"
      ],
      "metadata": {
        "id": "fePTM5KY493m"
      }
    },
    {
      "cell_type": "code",
      "source": [
        "model_21 = keras.Sequential([\n",
        "    layers.Dense(32, activation=\"relu\"),\n",
        "    layers.Dense(32, activation=\"relu\"),\n",
        "    layers.Dense(1, activation=\"sigmoid\")\n",
        "])\n",
        "model_21.compile(optimizer=\"rmsprop\",\n",
        "              loss=\"binary_crossentropy\",\n",
        "              metrics=[\"accuracy\"])\n",
        "history21 = model_21.fit(partial_x_train,\n",
        "                    partial_y_train,\n",
        "                    epochs=20,\n",
        "                    batch_size=512,\n",
        "                    validation_data=(x_val, y_val))\n",
        "history_dict21 = history21.history\n",
        "history_dict21.keys()"
      ],
      "metadata": {
        "colab": {
          "base_uri": "https://localhost:8080/"
        },
        "id": "2_lX4Eyb28-s",
        "outputId": "4bd30126-c5f2-4290-85ae-1df29673e552"
      },
      "execution_count": 17,
      "outputs": [
        {
          "output_type": "stream",
          "name": "stdout",
          "text": [
            "Epoch 1/20\n",
            "30/30 [==============================] - 2s 38ms/step - loss: 0.4888 - accuracy: 0.7844 - val_loss: 0.3420 - val_accuracy: 0.8746\n",
            "Epoch 2/20\n",
            "30/30 [==============================] - 1s 22ms/step - loss: 0.2737 - accuracy: 0.9037 - val_loss: 0.2987 - val_accuracy: 0.8813\n",
            "Epoch 3/20\n",
            "30/30 [==============================] - 1s 21ms/step - loss: 0.2021 - accuracy: 0.9301 - val_loss: 0.2746 - val_accuracy: 0.8920\n",
            "Epoch 4/20\n",
            "30/30 [==============================] - 1s 21ms/step - loss: 0.1541 - accuracy: 0.9481 - val_loss: 0.3808 - val_accuracy: 0.8494\n",
            "Epoch 5/20\n",
            "30/30 [==============================] - 1s 22ms/step - loss: 0.1277 - accuracy: 0.9576 - val_loss: 0.2981 - val_accuracy: 0.8866\n",
            "Epoch 6/20\n",
            "30/30 [==============================] - 1s 21ms/step - loss: 0.0973 - accuracy: 0.9687 - val_loss: 0.3255 - val_accuracy: 0.8838\n",
            "Epoch 7/20\n",
            "30/30 [==============================] - 1s 21ms/step - loss: 0.0768 - accuracy: 0.9759 - val_loss: 0.4180 - val_accuracy: 0.8603\n",
            "Epoch 8/20\n",
            "30/30 [==============================] - 1s 21ms/step - loss: 0.0659 - accuracy: 0.9794 - val_loss: 0.3696 - val_accuracy: 0.8789\n",
            "Epoch 9/20\n",
            "30/30 [==============================] - 1s 22ms/step - loss: 0.0519 - accuracy: 0.9848 - val_loss: 0.4028 - val_accuracy: 0.8739\n",
            "Epoch 10/20\n",
            "30/30 [==============================] - 1s 21ms/step - loss: 0.0430 - accuracy: 0.9877 - val_loss: 0.4382 - val_accuracy: 0.8750\n",
            "Epoch 11/20\n",
            "30/30 [==============================] - 1s 21ms/step - loss: 0.0219 - accuracy: 0.9965 - val_loss: 0.4793 - val_accuracy: 0.8682\n",
            "Epoch 12/20\n",
            "30/30 [==============================] - 1s 22ms/step - loss: 0.0237 - accuracy: 0.9942 - val_loss: 0.5054 - val_accuracy: 0.8736\n",
            "Epoch 13/20\n",
            "30/30 [==============================] - 1s 22ms/step - loss: 0.0242 - accuracy: 0.9933 - val_loss: 0.5353 - val_accuracy: 0.8729\n",
            "Epoch 14/20\n",
            "30/30 [==============================] - 1s 22ms/step - loss: 0.0168 - accuracy: 0.9955 - val_loss: 0.5650 - val_accuracy: 0.8728\n",
            "Epoch 15/20\n",
            "30/30 [==============================] - 1s 22ms/step - loss: 0.0061 - accuracy: 0.9997 - val_loss: 0.6071 - val_accuracy: 0.8704\n",
            "Epoch 16/20\n",
            "30/30 [==============================] - 1s 22ms/step - loss: 0.0154 - accuracy: 0.9957 - val_loss: 0.6394 - val_accuracy: 0.8706\n",
            "Epoch 17/20\n",
            "30/30 [==============================] - 1s 22ms/step - loss: 0.0030 - accuracy: 0.9999 - val_loss: 0.6757 - val_accuracy: 0.8671\n",
            "Epoch 18/20\n",
            "30/30 [==============================] - 1s 22ms/step - loss: 0.0163 - accuracy: 0.9957 - val_loss: 0.7002 - val_accuracy: 0.8680\n",
            "Epoch 19/20\n",
            "30/30 [==============================] - 1s 22ms/step - loss: 0.0018 - accuracy: 0.9999 - val_loss: 0.7254 - val_accuracy: 0.8677\n",
            "Epoch 20/20\n",
            "30/30 [==============================] - 1s 21ms/step - loss: 0.0014 - accuracy: 0.9999 - val_loss: 0.8373 - val_accuracy: 0.8554\n"
          ]
        },
        {
          "output_type": "execute_result",
          "data": {
            "text/plain": [
              "dict_keys(['loss', 'accuracy', 'val_loss', 'val_accuracy'])"
            ]
          },
          "metadata": {},
          "execution_count": 17
        }
      ]
    },
    {
      "cell_type": "markdown",
      "source": [
        "Plotting graph between Training and Validation loss"
      ],
      "metadata": {
        "id": "Jy9p9IUvbuTs"
      }
    },
    {
      "cell_type": "code",
      "source": [
        "loss_values = history_dict21[\"loss\"]\n",
        "val_loss_values = history_dict21[\"val_loss\"]\n",
        "epochs = range(1, len(loss_values) + 1)\n",
        "plt.plot(epochs, loss_values, \"bo\", label=\"Training loss\")\n",
        "plt.plot(epochs, val_loss_values, \"b\", label=\"Validation loss\")\n",
        "plt.title(\"Training and validation loss\")\n",
        "plt.xlabel(\"Epochs\")\n",
        "plt.ylabel(\"Loss\")\n",
        "plt.legend()\n",
        "plt.show()"
      ],
      "metadata": {
        "colab": {
          "base_uri": "https://localhost:8080/",
          "height": 295
        },
        "id": "vwp20o3i3kG5",
        "outputId": "2488b01e-0eb4-408d-8414-66caa96a0b20"
      },
      "execution_count": 20,
      "outputs": [
        {
          "output_type": "display_data",
          "data": {
            "image/png": "[encoded data removed]",
            "text/plain": [
              "<Figure size 432x288 with 1 Axes>"
            ]
          },
          "metadata": {
            "needs_background": "light"
          }
        }
      ]
    },
    {
      "cell_type": "markdown",
      "source": [
        "Plotting graph between Training and Validation accuracy"
      ],
      "metadata": {
        "id": "cDK0AmU1bvmS"
      }
    },
    {
      "cell_type": "code",
      "source": [
        "plt.clf()\n",
        "acc = history_dict21[\"accuracy\"]\n",
        "val_acc = history_dict21[\"val_accuracy\"]\n",
        "plt.plot(epochs, acc, \"bo\", label=\"Training acc\")\n",
        "plt.plot(epochs, val_acc, \"b\", label=\"Validation acc\")\n",
        "plt.title(\"Training and validation accuracy\")\n",
        "plt.xlabel(\"Epochs\")\n",
        "plt.ylabel(\"Accuracy\")\n",
        "plt.legend()\n",
        "plt.show()"
      ],
      "metadata": {
        "colab": {
          "base_uri": "https://localhost:8080/",
          "height": 295
        },
        "id": "CfsYTVkF3rlv",
        "outputId": "8fc3095b-16c2-40d3-9e20-387310715992"
      },
      "execution_count": 21,
      "outputs": [
        {
          "output_type": "display_data",
          "data": {
            "image/png": "[encoded data removed]",
            "text/plain": [
              "<Figure size 432x288 with 1 Axes>"
            ]
          },
          "metadata": {
            "needs_background": "light"
          }
        }
      ]
    },
    {
      "cell_type": "code",
      "source": [
        "model_21.fit(x_train, y_train, epochs=8, batch_size=512)\n",
        "results_M21 = model_21.evaluate(x_test, y_test)\n",
        "results_M21"
      ],
      "metadata": {
        "colab": {
          "base_uri": "https://localhost:8080/"
        },
        "id": "x27vcv4A3_bj",
        "outputId": "54271c34-23be-4831-9daf-5c30434ca260"
      },
      "execution_count": 22,
      "outputs": [
        {
          "output_type": "stream",
          "name": "stdout",
          "text": [
            "Epoch 1/8\n",
            "49/49 [==============================] - 2s 35ms/step - loss: 0.2248 - accuracy: 0.9466\n",
            "Epoch 2/8\n",
            "49/49 [==============================] - 2s 34ms/step - loss: 0.1239 - accuracy: 0.9628\n",
            "Epoch 3/8\n",
            "49/49 [==============================] - 2s 34ms/step - loss: 0.0898 - accuracy: 0.9728\n",
            "Epoch 4/8\n",
            "49/49 [==============================] - 2s 34ms/step - loss: 0.0653 - accuracy: 0.9804\n",
            "Epoch 5/8\n",
            "49/49 [==============================] - 3s 59ms/step - loss: 0.0481 - accuracy: 0.9852\n",
            "Epoch 6/8\n",
            "49/49 [==============================] - 3s 67ms/step - loss: 0.0325 - accuracy: 0.9908\n",
            "Epoch 7/8\n",
            "49/49 [==============================] - 3s 65ms/step - loss: 0.0232 - accuracy: 0.9938\n",
            "Epoch 8/8\n",
            "49/49 [==============================] - 3s 59ms/step - loss: 0.0163 - accuracy: 0.9958\n",
            "782/782 [==============================] - 2s 2ms/step - loss: 0.8179 - accuracy: 0.8545\n"
          ]
        },
        {
          "output_type": "execute_result",
          "data": {
            "text/plain": [
              "[0.817875862121582, 0.8545200228691101]"
            ]
          },
          "metadata": {},
          "execution_count": 22
        }
      ]
    },
    {
      "cell_type": "markdown",
      "source": [
        "Training the model with 64-Units"
      ],
      "metadata": {
        "id": "T38mz2LB5GjG"
      }
    },
    {
      "cell_type": "code",
      "source": [
        "model_22 = keras.Sequential([\n",
        "    layers.Dense(64, activation=\"relu\"),\n",
        "    layers.Dense(64, activation=\"relu\"),\n",
        "    layers.Dense(1, activation=\"sigmoid\")\n",
        "])\n",
        "model_22.compile(optimizer=\"rmsprop\",\n",
        "              loss=\"binary_crossentropy\",\n",
        "              metrics=[\"accuracy\"])\n",
        "history22 = model_22.fit(partial_x_train,\n",
        "                    partial_y_train,\n",
        "                    epochs=20,\n",
        "                    batch_size=512,\n",
        "                    validation_data=(x_val, y_val))\n",
        "history_dict22 = history22.history\n",
        "history_dict22.keys()"
      ],
      "metadata": {
        "colab": {
          "base_uri": "https://localhost:8080/"
        },
        "id": "1B2WZzm04yo9",
        "outputId": "994c87e2-56dd-4471-9c44-5b890699f638"
      },
      "execution_count": 19,
      "outputs": [
        {
          "output_type": "stream",
          "name": "stdout",
          "text": [
            "Epoch 1/20\n",
            "30/30 [==============================] - 2s 43ms/step - loss: 0.4875 - accuracy: 0.7833 - val_loss: 0.3692 - val_accuracy: 0.8475\n",
            "Epoch 2/20\n",
            "30/30 [==============================] - 1s 22ms/step - loss: 0.2608 - accuracy: 0.9038 - val_loss: 0.2884 - val_accuracy: 0.8848\n",
            "Epoch 3/20\n",
            "30/30 [==============================] - 1s 26ms/step - loss: 0.1913 - accuracy: 0.9299 - val_loss: 0.2980 - val_accuracy: 0.8842\n",
            "Epoch 4/20\n",
            "30/30 [==============================] - 1s 23ms/step - loss: 0.1514 - accuracy: 0.9451 - val_loss: 0.2896 - val_accuracy: 0.8902\n",
            "Epoch 5/20\n",
            "30/30 [==============================] - 1s 25ms/step - loss: 0.1065 - accuracy: 0.9643 - val_loss: 0.3209 - val_accuracy: 0.8851\n",
            "Epoch 6/20\n",
            "30/30 [==============================] - 1s 22ms/step - loss: 0.0883 - accuracy: 0.9710 - val_loss: 0.3557 - val_accuracy: 0.8821\n",
            "Epoch 7/20\n",
            "30/30 [==============================] - 1s 22ms/step - loss: 0.0636 - accuracy: 0.9811 - val_loss: 0.4117 - val_accuracy: 0.8673\n",
            "Epoch 8/20\n",
            "30/30 [==============================] - 1s 22ms/step - loss: 0.0431 - accuracy: 0.9881 - val_loss: 0.6904 - val_accuracy: 0.8380\n",
            "Epoch 9/20\n",
            "30/30 [==============================] - 1s 25ms/step - loss: 0.0390 - accuracy: 0.9881 - val_loss: 0.4509 - val_accuracy: 0.8776\n",
            "Epoch 10/20\n",
            "30/30 [==============================] - 1s 23ms/step - loss: 0.0122 - accuracy: 0.9987 - val_loss: 0.5451 - val_accuracy: 0.8747\n",
            "Epoch 11/20\n",
            "30/30 [==============================] - 1s 23ms/step - loss: 0.0395 - accuracy: 0.9896 - val_loss: 0.5503 - val_accuracy: 0.8743\n",
            "Epoch 12/20\n",
            "30/30 [==============================] - 1s 22ms/step - loss: 0.0043 - accuracy: 0.9999 - val_loss: 0.6096 - val_accuracy: 0.8740\n",
            "Epoch 13/20\n",
            "30/30 [==============================] - 1s 22ms/step - loss: 0.0341 - accuracy: 0.9909 - val_loss: 0.7052 - val_accuracy: 0.8695\n",
            "Epoch 14/20\n",
            "30/30 [==============================] - 1s 22ms/step - loss: 0.0017 - accuracy: 1.0000 - val_loss: 0.6839 - val_accuracy: 0.8724\n",
            "Epoch 15/20\n",
            "30/30 [==============================] - 1s 22ms/step - loss: 0.0010 - accuracy: 1.0000 - val_loss: 0.7322 - val_accuracy: 0.8718\n",
            "Epoch 16/20\n",
            "30/30 [==============================] - 1s 22ms/step - loss: 0.0368 - accuracy: 0.9913 - val_loss: 0.7551 - val_accuracy: 0.8675\n",
            "Epoch 17/20\n",
            "30/30 [==============================] - 1s 23ms/step - loss: 6.6900e-04 - accuracy: 1.0000 - val_loss: 0.7786 - val_accuracy: 0.8702\n",
            "Epoch 18/20\n",
            "30/30 [==============================] - 1s 21ms/step - loss: 4.2158e-04 - accuracy: 1.0000 - val_loss: 0.8174 - val_accuracy: 0.8690\n",
            "Epoch 19/20\n",
            "30/30 [==============================] - 1s 22ms/step - loss: 2.7003e-04 - accuracy: 1.0000 - val_loss: 0.8931 - val_accuracy: 0.8680\n",
            "Epoch 20/20\n",
            "30/30 [==============================] - 1s 22ms/step - loss: 0.0399 - accuracy: 0.9929 - val_loss: 0.9430 - val_accuracy: 0.8649\n"
          ]
        },
        {
          "output_type": "execute_result",
          "data": {
            "text/plain": [
              "dict_keys(['loss', 'accuracy', 'val_loss', 'val_accuracy'])"
            ]
          },
          "metadata": {},
          "execution_count": 19
        }
      ]
    },
    {
      "cell_type": "markdown",
      "source": [
        "Plotting graph between Training and Validation loss"
      ],
      "metadata": {
        "id": "AHSCqXFOdUhu"
      }
    },
    {
      "cell_type": "code",
      "source": [
        "loss_values = history_dict22[\"loss\"]\n",
        "val_loss_values = history_dict22[\"val_loss\"]\n",
        "epochs = range(1, len(loss_values) + 1)\n",
        "plt.plot(epochs, loss_values, \"bo\", label=\"Training loss\")\n",
        "plt.plot(epochs, val_loss_values, \"b\", label=\"Validation loss\")\n",
        "plt.title(\"Training and validation loss\")\n",
        "plt.xlabel(\"Epochs\")\n",
        "plt.ylabel(\"Loss\")\n",
        "plt.legend()\n",
        "plt.show()"
      ],
      "metadata": {
        "colab": {
          "base_uri": "https://localhost:8080/",
          "height": 295
        },
        "id": "_iSzJWW76S4q",
        "outputId": "1e635d04-7d7f-4c78-ca9a-dd68211b35df"
      },
      "execution_count": 14,
      "outputs": [
        {
          "output_type": "display_data",
          "data": {
            "image/png": "[encoded data removed]",
            "text/plain": [
              "<Figure size 432x288 with 1 Axes>"
            ]
          },
          "metadata": {
            "needs_background": "light"
          }
        }
      ]
    },
    {
      "cell_type": "markdown",
      "source": [
        "Plotting graph between Training and Validation accuracy"
      ],
      "metadata": {
        "id": "RYh07c1JdWYX"
      }
    },
    {
      "cell_type": "code",
      "source": [
        "plt.clf()\n",
        "acc = history_dict22[\"accuracy\"]\n",
        "val_acc = history_dict22[\"val_accuracy\"]\n",
        "plt.plot(epochs, acc, \"bo\", label=\"Training acc\")\n",
        "plt.plot(epochs, val_acc, \"b\", label=\"Validation acc\")\n",
        "plt.title(\"Training and validation accuracy\")\n",
        "plt.xlabel(\"Epochs\")\n",
        "plt.ylabel(\"Accuracy\")\n",
        "plt.legend()\n",
        "plt.show()"
      ],
      "metadata": {
        "colab": {
          "base_uri": "https://localhost:8080/",
          "height": 295
        },
        "id": "Lnn-oqeO6Zk2",
        "outputId": "cd74219d-c9b2-458c-f2b7-47f814f7d5cb"
      },
      "execution_count": null,
      "outputs": [
        {
          "output_type": "display_data",
          "data": {
            "image/png": "[encoded data removed]",
            "text/plain": [
              "<Figure size 432x288 with 1 Axes>"
            ]
          },
          "metadata": {
            "needs_background": "light"
          }
        }
      ]
    },
    {
      "cell_type": "code",
      "source": [
        "model_22.fit(x_train, y_train, epochs=8, batch_size=512)\n",
        "results_M22 = model_22.evaluate(x_test, y_test)\n",
        "results_M22"
      ],
      "metadata": {
        "colab": {
          "base_uri": "https://localhost:8080/"
        },
        "id": "YH4nda_Z631-",
        "outputId": "4cc83025-ea9a-4d0a-d3a5-34211a90cdd2"
      },
      "execution_count": null,
      "outputs": [
        {
          "output_type": "stream",
          "name": "stdout",
          "text": [
            "Epoch 1/8\n",
            "49/49 [==============================] - 2s 50ms/step - loss: 0.2061 - accuracy: 0.9469\n",
            "Epoch 2/8\n",
            "49/49 [==============================] - 2s 50ms/step - loss: 0.0980 - accuracy: 0.9687\n",
            "Epoch 3/8\n",
            "49/49 [==============================] - 2s 50ms/step - loss: 0.0596 - accuracy: 0.9821\n",
            "Epoch 4/8\n",
            "49/49 [==============================] - 2s 49ms/step - loss: 0.0332 - accuracy: 0.9908\n",
            "Epoch 5/8\n",
            "49/49 [==============================] - 2s 50ms/step - loss: 0.0184 - accuracy: 0.9952\n",
            "Epoch 6/8\n",
            "49/49 [==============================] - 2s 51ms/step - loss: 0.0183 - accuracy: 0.9950\n",
            "Epoch 7/8\n",
            "49/49 [==============================] - 2s 50ms/step - loss: 0.0088 - accuracy: 0.9978\n",
            "Epoch 8/8\n",
            "49/49 [==============================] - 2s 50ms/step - loss: 0.0037 - accuracy: 0.9989\n",
            "782/782 [==============================] - 2s 3ms/step - loss: 0.9634 - accuracy: 0.8597\n"
          ]
        },
        {
          "output_type": "execute_result",
          "data": {
            "text/plain": [
              "[0.9634003043174744, 0.8596799969673157]"
            ]
          },
          "metadata": {},
          "execution_count": 28
        }
      ]
    },
    {
      "cell_type": "markdown",
      "source": [
        "Training the model with 128-Units"
      ],
      "metadata": {
        "id": "QtovNgnb8LXY"
      }
    },
    {
      "cell_type": "code",
      "source": [
        "model_23 = keras.Sequential([\n",
        "    layers.Dense(128, activation=\"relu\"),\n",
        "    layers.Dense(128, activation=\"relu\"),\n",
        "    layers.Dense(1, activation=\"sigmoid\")\n",
        "])\n",
        "model_23.compile(optimizer=\"rmsprop\",\n",
        "              loss=\"binary_crossentropy\",\n",
        "              metrics=[\"accuracy\"])\n",
        "history23 = model_23.fit(partial_x_train,\n",
        "                    partial_y_train,\n",
        "                    epochs=20,\n",
        "                    batch_size=512,\n",
        "                    validation_data=(x_val, y_val))\n",
        "history_dict23 = history23.history\n",
        "history_dict23.keys()"
      ],
      "metadata": {
        "colab": {
          "base_uri": "https://localhost:8080/"
        },
        "id": "IIx1SBMP8O-y",
        "outputId": "c03d9e06-d178-42ef-dc4f-2dcbb950277a"
      },
      "execution_count": 20,
      "outputs": [
        {
          "output_type": "stream",
          "name": "stdout",
          "text": [
            "Epoch 1/20\n",
            "30/30 [==============================] - 2s 37ms/step - loss: 0.4910 - accuracy: 0.7592 - val_loss: 0.3131 - val_accuracy: 0.8804\n",
            "Epoch 2/20\n",
            "30/30 [==============================] - 1s 24ms/step - loss: 0.2554 - accuracy: 0.9045 - val_loss: 0.2708 - val_accuracy: 0.8926\n",
            "Epoch 3/20\n",
            "30/30 [==============================] - 1s 24ms/step - loss: 0.1767 - accuracy: 0.9323 - val_loss: 0.3132 - val_accuracy: 0.8814\n",
            "Epoch 4/20\n",
            "30/30 [==============================] - 1s 24ms/step - loss: 0.1091 - accuracy: 0.9619 - val_loss: 0.3402 - val_accuracy: 0.8758\n",
            "Epoch 5/20\n",
            "30/30 [==============================] - 1s 27ms/step - loss: 0.0831 - accuracy: 0.9715 - val_loss: 0.3808 - val_accuracy: 0.8757\n",
            "Epoch 6/20\n",
            "30/30 [==============================] - 1s 24ms/step - loss: 0.0627 - accuracy: 0.9813 - val_loss: 0.3911 - val_accuracy: 0.8821\n",
            "Epoch 7/20\n",
            "30/30 [==============================] - 1s 26ms/step - loss: 0.0499 - accuracy: 0.9858 - val_loss: 0.3972 - val_accuracy: 0.8818\n",
            "Epoch 8/20\n",
            "30/30 [==============================] - 1s 24ms/step - loss: 0.0078 - accuracy: 0.9995 - val_loss: 0.4927 - val_accuracy: 0.8785\n",
            "Epoch 9/20\n",
            "30/30 [==============================] - 1s 24ms/step - loss: 0.0029 - accuracy: 0.9997 - val_loss: 0.6309 - val_accuracy: 0.8785\n",
            "Epoch 10/20\n",
            "30/30 [==============================] - 1s 24ms/step - loss: 0.0953 - accuracy: 0.9838 - val_loss: 0.6078 - val_accuracy: 0.8779\n",
            "Epoch 11/20\n",
            "30/30 [==============================] - 1s 24ms/step - loss: 8.3522e-04 - accuracy: 1.0000 - val_loss: 0.6354 - val_accuracy: 0.8772\n",
            "Epoch 12/20\n",
            "30/30 [==============================] - 1s 25ms/step - loss: 4.4612e-04 - accuracy: 1.0000 - val_loss: 0.6989 - val_accuracy: 0.8770\n",
            "Epoch 13/20\n",
            "30/30 [==============================] - 1s 25ms/step - loss: 2.2513e-04 - accuracy: 1.0000 - val_loss: 0.7833 - val_accuracy: 0.8758\n",
            "Epoch 14/20\n",
            "30/30 [==============================] - 1s 24ms/step - loss: 8.7578e-05 - accuracy: 1.0000 - val_loss: 0.9124 - val_accuracy: 0.8704\n",
            "Epoch 15/20\n",
            "30/30 [==============================] - 1s 24ms/step - loss: 2.5541e-05 - accuracy: 1.0000 - val_loss: 1.0272 - val_accuracy: 0.8757\n",
            "Epoch 16/20\n",
            "30/30 [==============================] - 1s 25ms/step - loss: 5.7789e-06 - accuracy: 1.0000 - val_loss: 1.1545 - val_accuracy: 0.8766\n",
            "Epoch 17/20\n",
            "30/30 [==============================] - 1s 24ms/step - loss: 0.1023 - accuracy: 0.9867 - val_loss: 1.3722 - val_accuracy: 0.8493\n",
            "Epoch 18/20\n",
            "30/30 [==============================] - 1s 25ms/step - loss: 2.0672e-04 - accuracy: 1.0000 - val_loss: 1.2269 - val_accuracy: 0.8633\n",
            "Epoch 19/20\n",
            "30/30 [==============================] - 1s 24ms/step - loss: 2.2214e-05 - accuracy: 1.0000 - val_loss: 1.2134 - val_accuracy: 0.8673\n",
            "Epoch 20/20\n",
            "30/30 [==============================] - 1s 24ms/step - loss: 8.2101e-06 - accuracy: 1.0000 - val_loss: 1.2053 - val_accuracy: 0.8703\n"
          ]
        },
        {
          "output_type": "execute_result",
          "data": {
            "text/plain": [
              "dict_keys(['loss', 'accuracy', 'val_loss', 'val_accuracy'])"
            ]
          },
          "metadata": {},
          "execution_count": 20
        }
      ]
    },
    {
      "cell_type": "markdown",
      "source": [
        "Plotting graph between Training and Validation loss"
      ],
      "metadata": {
        "id": "s9mrt-g5dmHt"
      }
    },
    {
      "cell_type": "code",
      "source": [
        "loss_values = history_dict23[\"loss\"]\n",
        "val_loss_values = history_dict23[\"val_loss\"]\n",
        "epochs = range(1, len(loss_values) + 1)\n",
        "plt.plot(epochs, loss_values, \"bo\", label=\"Training loss\")\n",
        "plt.plot(epochs, val_loss_values, \"b\", label=\"Validation loss\")\n",
        "plt.title(\"Training and validation loss\")\n",
        "plt.xlabel(\"Epochs\")\n",
        "plt.ylabel(\"Loss\")\n",
        "plt.legend()\n",
        "plt.show()"
      ],
      "metadata": {
        "colab": {
          "base_uri": "https://localhost:8080/",
          "height": 295
        },
        "id": "9OtO9ew09PqK",
        "outputId": "105eb00b-8be2-4512-fde4-f30cc162398a"
      },
      "execution_count": null,
      "outputs": [
        {
          "output_type": "display_data",
          "data": {
            "image/png": "[encoded data removed]",
            "text/plain": [
              "<Figure size 432x288 with 1 Axes>"
            ]
          },
          "metadata": {
            "needs_background": "light"
          }
        }
      ]
    },
    {
      "cell_type": "markdown",
      "source": [
        "Plotting graph between Training and Validation accuracy"
      ],
      "metadata": {
        "id": "o_4X5vHMdpGP"
      }
    },
    {
      "cell_type": "code",
      "source": [
        "plt.clf()\n",
        "acc = history_dict23[\"accuracy\"]\n",
        "val_acc = history_dict23[\"val_accuracy\"]\n",
        "plt.plot(epochs, acc, \"bo\", label=\"Training acc\")\n",
        "plt.plot(epochs, val_acc, \"b\", label=\"Validation acc\")\n",
        "plt.title(\"Training and validation accuracy\")\n",
        "plt.xlabel(\"Epochs\")\n",
        "plt.ylabel(\"Accuracy\")\n",
        "plt.legend()\n",
        "plt.show()"
      ],
      "metadata": {
        "colab": {
          "base_uri": "https://localhost:8080/",
          "height": 295
        },
        "id": "A4Mwbd4d9-d5",
        "outputId": "44320d06-a47c-4487-95c0-4278a3ecfc30"
      },
      "execution_count": null,
      "outputs": [
        {
          "output_type": "display_data",
          "data": {
            "image/png": "[encoded data removed]",
            "text/plain": [
              "<Figure size 432x288 with 1 Axes>"
            ]
          },
          "metadata": {
            "needs_background": "light"
          }
        }
      ]
    },
    {
      "cell_type": "code",
      "source": [
        "model_23.fit(x_train, y_train, epochs=8, batch_size=512)\n",
        "results_M23 = model_23.evaluate(x_test, y_test)\n",
        "results_M23"
      ],
      "metadata": {
        "colab": {
          "base_uri": "https://localhost:8080/"
        },
        "id": "PIbnWEpM-IzJ",
        "outputId": "60d11f9b-5187-4194-cf8d-a021efc1587e"
      },
      "execution_count": null,
      "outputs": [
        {
          "output_type": "stream",
          "name": "stdout",
          "text": [
            "Epoch 1/8\n",
            "49/49 [==============================] - 4s 71ms/step - loss: 0.1911 - accuracy: 0.9470\n",
            "Epoch 2/8\n",
            "49/49 [==============================] - 3s 71ms/step - loss: 0.0785 - accuracy: 0.9750\n",
            "Epoch 3/8\n",
            "49/49 [==============================] - 3s 70ms/step - loss: 0.0358 - accuracy: 0.9897\n",
            "Epoch 4/8\n",
            "49/49 [==============================] - 3s 71ms/step - loss: 0.0380 - accuracy: 0.9923\n",
            "Epoch 5/8\n",
            "49/49 [==============================] - 3s 71ms/step - loss: 0.0164 - accuracy: 0.9954\n",
            "Epoch 6/8\n",
            "49/49 [==============================] - 4s 76ms/step - loss: 0.0033 - accuracy: 0.9993\n",
            "Epoch 7/8\n",
            "49/49 [==============================] - 3s 71ms/step - loss: 0.0275 - accuracy: 0.9953\n",
            "Epoch 8/8\n",
            "49/49 [==============================] - 3s 70ms/step - loss: 0.0011 - accuracy: 0.9999\n",
            "782/782 [==============================] - 3s 4ms/step - loss: 1.1234 - accuracy: 0.8665\n"
          ]
        },
        {
          "output_type": "execute_result",
          "data": {
            "text/plain": [
              "[1.123350977897644, 0.8665199875831604]"
            ]
          },
          "metadata": {},
          "execution_count": 43
        }
      ]
    },
    {
      "cell_type": "markdown",
      "source": [
        "Loss Function"
      ],
      "metadata": {
        "id": "TaV2th2-gUxo"
      }
    },
    {
      "cell_type": "code",
      "source": [
        "model_MSE = keras.Sequential([\n",
        "    layers.Dense(16, activation=\"relu\"),\n",
        "    layers.Dense(16, activation=\"relu\"),\n",
        "    layers.Dense(1, activation=\"sigmoid\")\n",
        "])\n",
        "model_MSE.compile(optimizer=\"rmsprop\",\n",
        "              loss=\"mse\",\n",
        "              metrics=[\"accuracy\"])\n",
        "history_model_MSE = model_MSE.fit(partial_x_train,\n",
        "                    partial_y_train,\n",
        "                    epochs=20,\n",
        "                    batch_size=512,\n",
        "                    validation_data=(x_val, y_val))\n",
        "history_dict_MSE = history_model_MSE.history\n",
        "history_dict_MSE.keys()"
      ],
      "metadata": {
        "colab": {
          "base_uri": "https://localhost:8080/"
        },
        "id": "rmfj3Vm9gYyL",
        "outputId": "27d061db-8e7b-44f7-e374-b1b92efa38c1"
      },
      "execution_count": 11,
      "outputs": [
        {
          "output_type": "stream",
          "name": "stdout",
          "text": [
            "Epoch 1/20\n",
            "30/30 [==============================] - 2s 41ms/step - loss: 0.1727 - accuracy: 0.7974 - val_loss: 0.1333 - val_accuracy: 0.8512\n",
            "Epoch 2/20\n",
            "30/30 [==============================] - 1s 21ms/step - loss: 0.0980 - accuracy: 0.9026 - val_loss: 0.0982 - val_accuracy: 0.8852\n",
            "Epoch 3/20\n",
            "30/30 [==============================] - 1s 21ms/step - loss: 0.0696 - accuracy: 0.9291 - val_loss: 0.0872 - val_accuracy: 0.8908\n",
            "Epoch 4/20\n",
            "30/30 [==============================] - 1s 24ms/step - loss: 0.0544 - accuracy: 0.9423 - val_loss: 0.0898 - val_accuracy: 0.8796\n",
            "Epoch 5/20\n",
            "30/30 [==============================] - 1s 24ms/step - loss: 0.0446 - accuracy: 0.9543 - val_loss: 0.0878 - val_accuracy: 0.8824\n",
            "Epoch 6/20\n",
            "30/30 [==============================] - 1s 21ms/step - loss: 0.0360 - accuracy: 0.9639 - val_loss: 0.0832 - val_accuracy: 0.8869\n",
            "Epoch 7/20\n",
            "30/30 [==============================] - 1s 21ms/step - loss: 0.0299 - accuracy: 0.9709 - val_loss: 0.0871 - val_accuracy: 0.8808\n",
            "Epoch 8/20\n",
            "30/30 [==============================] - 1s 21ms/step - loss: 0.0251 - accuracy: 0.9780 - val_loss: 0.0880 - val_accuracy: 0.8811\n",
            "Epoch 9/20\n",
            "30/30 [==============================] - 1s 25ms/step - loss: 0.0208 - accuracy: 0.9817 - val_loss: 0.0888 - val_accuracy: 0.8790\n",
            "Epoch 10/20\n",
            "30/30 [==============================] - 1s 24ms/step - loss: 0.0175 - accuracy: 0.9853 - val_loss: 0.0904 - val_accuracy: 0.8788\n",
            "Epoch 11/20\n",
            "30/30 [==============================] - 1s 21ms/step - loss: 0.0145 - accuracy: 0.9885 - val_loss: 0.0928 - val_accuracy: 0.8755\n",
            "Epoch 12/20\n",
            "30/30 [==============================] - 1s 21ms/step - loss: 0.0122 - accuracy: 0.9905 - val_loss: 0.0951 - val_accuracy: 0.8743\n",
            "Epoch 13/20\n",
            "30/30 [==============================] - 1s 21ms/step - loss: 0.0101 - accuracy: 0.9928 - val_loss: 0.0978 - val_accuracy: 0.8743\n",
            "Epoch 14/20\n",
            "30/30 [==============================] - 1s 20ms/step - loss: 0.0093 - accuracy: 0.9933 - val_loss: 0.0989 - val_accuracy: 0.8739\n",
            "Epoch 15/20\n",
            "30/30 [==============================] - 1s 21ms/step - loss: 0.0075 - accuracy: 0.9948 - val_loss: 0.1009 - val_accuracy: 0.8716\n",
            "Epoch 16/20\n",
            "30/30 [==============================] - 1s 25ms/step - loss: 0.0071 - accuracy: 0.9947 - val_loss: 0.1025 - val_accuracy: 0.8704\n",
            "Epoch 17/20\n",
            "30/30 [==============================] - 1s 21ms/step - loss: 0.0056 - accuracy: 0.9959 - val_loss: 0.1050 - val_accuracy: 0.8691\n",
            "Epoch 18/20\n",
            "30/30 [==============================] - 1s 21ms/step - loss: 0.0053 - accuracy: 0.9960 - val_loss: 0.1054 - val_accuracy: 0.8678\n",
            "Epoch 19/20\n",
            "30/30 [==============================] - 1s 24ms/step - loss: 0.0039 - accuracy: 0.9971 - val_loss: 0.1066 - val_accuracy: 0.8675\n",
            "Epoch 20/20\n",
            "30/30 [==============================] - 1s 20ms/step - loss: 0.0047 - accuracy: 0.9959 - val_loss: 0.1083 - val_accuracy: 0.8664\n"
          ]
        },
        {
          "output_type": "execute_result",
          "data": {
            "text/plain": [
              "dict_keys(['loss', 'accuracy', 'val_loss', 'val_accuracy'])"
            ]
          },
          "metadata": {},
          "execution_count": 11
        }
      ]
    },
    {
      "cell_type": "markdown",
      "source": [
        "Plotting graph between Training and Validation loss"
      ],
      "metadata": {
        "id": "cIPz5DJydzbd"
      }
    },
    {
      "cell_type": "code",
      "source": [
        "loss_values = history_dict_MSE[\"loss\"]\n",
        "val_loss_values = history_dict_MSE[\"val_loss\"]\n",
        "epochs = range(1, len(loss_values) + 1)\n",
        "plt.plot(epochs, loss_values, \"bo\", label=\"Training loss\")\n",
        "plt.plot(epochs, val_loss_values, \"b\", label=\"Validation loss\")\n",
        "plt.title(\"Training and validation loss\")\n",
        "plt.xlabel(\"Epochs\")\n",
        "plt.ylabel(\"Loss\")\n",
        "plt.legend()\n",
        "plt.show()"
      ],
      "metadata": {
        "colab": {
          "base_uri": "https://localhost:8080/",
          "height": 295
        },
        "id": "i0khYxVZg6Jw",
        "outputId": "22b3a7d9-e521-42bf-e5e7-c0e8752ce872"
      },
      "execution_count": null,
      "outputs": [
        {
          "output_type": "display_data",
          "data": {
            "image/png": "[encoded data removed]",
            "text/plain": [
              "<Figure size 432x288 with 1 Axes>"
            ]
          },
          "metadata": {
            "needs_background": "light"
          }
        }
      ]
    },
    {
      "cell_type": "markdown",
      "source": [
        "Plotting graph between Training and Validation accuracy"
      ],
      "metadata": {
        "id": "JDntgEnCd0vZ"
      }
    },
    {
      "cell_type": "code",
      "source": [
        "plt.clf()\n",
        "acc = history_dict_MSE[\"accuracy\"]\n",
        "val_acc = history_dict_MSE[\"val_accuracy\"]\n",
        "plt.plot(epochs, acc, \"bo\", label=\"Training acc\")\n",
        "plt.plot(epochs, val_acc, \"b\", label=\"Validation acc\")\n",
        "plt.title(\"Training and validation accuracy\")\n",
        "plt.xlabel(\"Epochs\")\n",
        "plt.ylabel(\"Accuracy\")\n",
        "plt.legend()\n",
        "plt.show()"
      ],
      "metadata": {
        "colab": {
          "base_uri": "https://localhost:8080/",
          "height": 295
        },
        "id": "S0ERdNlhg_CQ",
        "outputId": "3e0a68bc-3af3-487f-813d-1f597766d806"
      },
      "execution_count": null,
      "outputs": [
        {
          "output_type": "display_data",
          "data": {
            "image/png": "[encoded data removed]",
            "text/plain": [
              "<Figure size 432x288 with 1 Axes>"
            ]
          },
          "metadata": {
            "needs_background": "light"
          }
        }
      ]
    },
    {
      "cell_type": "code",
      "source": [
        "model_MSE.fit(x_train, y_train, epochs=8, batch_size=512)\n",
        "results_MSE = model_MSE.evaluate(x_test, y_test)\n",
        "results_MSE"
      ],
      "metadata": {
        "colab": {
          "base_uri": "https://localhost:8080/"
        },
        "id": "OY_7nWw0hIE3",
        "outputId": "34b8b356-5ebd-408f-896f-cc3af0b3142a"
      },
      "execution_count": 12,
      "outputs": [
        {
          "output_type": "stream",
          "name": "stdout",
          "text": [
            "Epoch 1/8\n",
            "49/49 [==============================] - 1s 14ms/step - loss: 0.0444 - accuracy: 0.9473\n",
            "Epoch 2/8\n",
            "49/49 [==============================] - 1s 14ms/step - loss: 0.0340 - accuracy: 0.9610\n",
            "Epoch 3/8\n",
            "49/49 [==============================] - 1s 14ms/step - loss: 0.0279 - accuracy: 0.9696\n",
            "Epoch 4/8\n",
            "49/49 [==============================] - 1s 13ms/step - loss: 0.0240 - accuracy: 0.9748\n",
            "Epoch 5/8\n",
            "49/49 [==============================] - 1s 14ms/step - loss: 0.0212 - accuracy: 0.9788\n",
            "Epoch 6/8\n",
            "49/49 [==============================] - 1s 13ms/step - loss: 0.0189 - accuracy: 0.9812\n",
            "Epoch 7/8\n",
            "49/49 [==============================] - 1s 14ms/step - loss: 0.0173 - accuracy: 0.9826\n",
            "Epoch 8/8\n",
            "49/49 [==============================] - 1s 13ms/step - loss: 0.0156 - accuracy: 0.9846\n",
            "782/782 [==============================] - 3s 3ms/step - loss: 0.1178 - accuracy: 0.8596\n"
          ]
        },
        {
          "output_type": "execute_result",
          "data": {
            "text/plain": [
              "[0.11778899282217026, 0.8595600128173828]"
            ]
          },
          "metadata": {},
          "execution_count": 12
        }
      ]
    },
    {
      "cell_type": "markdown",
      "source": [
        "Training the model using Tanh Activation Function"
      ],
      "metadata": {
        "id": "NEsCVBzchSzJ"
      }
    },
    {
      "cell_type": "code",
      "source": [
        "model_tanh = keras.Sequential([\n",
        "    layers.Dense(16, activation=\"tanh\"),\n",
        "    layers.Dense(16, activation=\"tanh\"),\n",
        "    layers.Dense(1, activation=\"sigmoid\")\n",
        "])\n",
        "model_tanh.compile(optimizer=\"rmsprop\",\n",
        "              loss=\"binary_crossentropy\",\n",
        "              metrics=[\"accuracy\"])\n",
        "history_model_tanh = model_tanh.fit(partial_x_train,\n",
        "                    partial_y_train,\n",
        "                    epochs=20,\n",
        "                    batch_size=512,\n",
        "                    validation_data=(x_val, y_val))\n",
        "history_dict_tanh = history_model_tanh.history\n",
        "history_dict_tanh.keys()"
      ],
      "metadata": {
        "colab": {
          "base_uri": "https://localhost:8080/"
        },
        "id": "DCe7qnQChazj",
        "outputId": "69665049-d171-41a5-8d8d-45dd57fcd500"
      },
      "execution_count": 13,
      "outputs": [
        {
          "output_type": "stream",
          "name": "stdout",
          "text": [
            "Epoch 1/20\n",
            "30/30 [==============================] - 2s 42ms/step - loss: 0.4709 - accuracy: 0.7903 - val_loss: 0.3470 - val_accuracy: 0.8747\n",
            "Epoch 2/20\n",
            "30/30 [==============================] - 1s 24ms/step - loss: 0.2668 - accuracy: 0.9069 - val_loss: 0.3507 - val_accuracy: 0.8503\n",
            "Epoch 3/20\n",
            "30/30 [==============================] - 1s 21ms/step - loss: 0.1911 - accuracy: 0.9341 - val_loss: 0.2875 - val_accuracy: 0.8813\n",
            "Epoch 4/20\n",
            "30/30 [==============================] - 1s 21ms/step - loss: 0.1444 - accuracy: 0.9493 - val_loss: 0.2923 - val_accuracy: 0.8831\n",
            "Epoch 5/20\n",
            "30/30 [==============================] - 1s 21ms/step - loss: 0.1123 - accuracy: 0.9620 - val_loss: 0.3144 - val_accuracy: 0.8827\n",
            "Epoch 6/20\n",
            "30/30 [==============================] - 1s 21ms/step - loss: 0.0869 - accuracy: 0.9737 - val_loss: 0.4073 - val_accuracy: 0.8650\n",
            "Epoch 7/20\n",
            "30/30 [==============================] - 1s 21ms/step - loss: 0.0659 - accuracy: 0.9809 - val_loss: 0.3889 - val_accuracy: 0.8762\n",
            "Epoch 8/20\n",
            "30/30 [==============================] - 1s 25ms/step - loss: 0.0560 - accuracy: 0.9825 - val_loss: 0.4875 - val_accuracy: 0.8582\n",
            "Epoch 9/20\n",
            "30/30 [==============================] - 1s 25ms/step - loss: 0.0495 - accuracy: 0.9824 - val_loss: 0.4683 - val_accuracy: 0.8697\n",
            "Epoch 10/20\n",
            "30/30 [==============================] - 1s 21ms/step - loss: 0.0350 - accuracy: 0.9893 - val_loss: 0.5058 - val_accuracy: 0.8686\n",
            "Epoch 11/20\n",
            "30/30 [==============================] - 1s 22ms/step - loss: 0.0267 - accuracy: 0.9924 - val_loss: 0.5511 - val_accuracy: 0.8708\n",
            "Epoch 12/20\n",
            "30/30 [==============================] - 1s 22ms/step - loss: 0.0248 - accuracy: 0.9928 - val_loss: 0.5830 - val_accuracy: 0.8677\n",
            "Epoch 13/20\n",
            "30/30 [==============================] - 1s 22ms/step - loss: 0.0083 - accuracy: 0.9990 - val_loss: 0.6234 - val_accuracy: 0.8665\n",
            "Epoch 14/20\n",
            "30/30 [==============================] - 1s 25ms/step - loss: 0.0220 - accuracy: 0.9934 - val_loss: 0.6572 - val_accuracy: 0.8655\n",
            "Epoch 15/20\n",
            "30/30 [==============================] - 1s 22ms/step - loss: 0.0034 - accuracy: 0.9997 - val_loss: 0.6929 - val_accuracy: 0.8640\n",
            "Epoch 16/20\n",
            "30/30 [==============================] - 1s 25ms/step - loss: 0.0210 - accuracy: 0.9941 - val_loss: 0.7324 - val_accuracy: 0.8631\n",
            "Epoch 17/20\n",
            "30/30 [==============================] - 1s 24ms/step - loss: 0.0016 - accuracy: 0.9998 - val_loss: 0.7536 - val_accuracy: 0.8611\n",
            "Epoch 18/20\n",
            "30/30 [==============================] - 1s 21ms/step - loss: 0.0010 - accuracy: 0.9999 - val_loss: 0.8758 - val_accuracy: 0.8545\n",
            "Epoch 19/20\n",
            "30/30 [==============================] - 1s 25ms/step - loss: 0.0197 - accuracy: 0.9943 - val_loss: 0.8106 - val_accuracy: 0.8604\n",
            "Epoch 20/20\n",
            "30/30 [==============================] - 1s 21ms/step - loss: 6.2370e-04 - accuracy: 1.0000 - val_loss: 0.8411 - val_accuracy: 0.8593\n"
          ]
        },
        {
          "output_type": "execute_result",
          "data": {
            "text/plain": [
              "dict_keys(['loss', 'accuracy', 'val_loss', 'val_accuracy'])"
            ]
          },
          "metadata": {},
          "execution_count": 13
        }
      ]
    },
    {
      "cell_type": "markdown",
      "source": [
        "Plotting graph between Training and Validation loss"
      ],
      "metadata": {
        "id": "Bp4Rnpt1eA5r"
      }
    },
    {
      "cell_type": "code",
      "source": [
        "loss_values = history_dict_tanh[\"loss\"]\n",
        "val_loss_values = history_dict_tanh[\"val_loss\"]\n",
        "epochs = range(1, len(loss_values) + 1)\n",
        "plt.plot(epochs, loss_values, \"bo\", label=\"Training loss\")\n",
        "plt.plot(epochs, val_loss_values, \"b\", label=\"Validation loss\")\n",
        "plt.title(\"Training and validation loss\")\n",
        "plt.xlabel(\"Epochs\")\n",
        "plt.ylabel(\"Loss\")\n",
        "plt.legend()\n",
        "plt.show()"
      ],
      "metadata": {
        "colab": {
          "base_uri": "https://localhost:8080/",
          "height": 295
        },
        "id": "DghkOXe0jvAu",
        "outputId": "33ae800c-c5ae-4f4d-dc0c-da0ca56b53f7"
      },
      "execution_count": null,
      "outputs": [
        {
          "output_type": "display_data",
          "data": {
            "image/png": "[encoded data removed]",
            "text/plain": [
              "<Figure size 432x288 with 1 Axes>"
            ]
          },
          "metadata": {
            "needs_background": "light"
          }
        }
      ]
    },
    {
      "cell_type": "markdown",
      "source": [
        "Plotting graph between Training and Validation accuracy"
      ],
      "metadata": {
        "id": "w8YZDiwUeCMQ"
      }
    },
    {
      "cell_type": "code",
      "source": [
        "plt.clf()\n",
        "acc = history_dict_tanh[\"accuracy\"]\n",
        "val_acc = history_dict_tanh[\"val_accuracy\"]\n",
        "plt.plot(epochs, acc, \"bo\", label=\"Training acc\")\n",
        "plt.plot(epochs, val_acc, \"b\", label=\"Validation acc\")\n",
        "plt.title(\"Training and validation accuracy\")\n",
        "plt.xlabel(\"Epochs\")\n",
        "plt.ylabel(\"Accuracy\")\n",
        "plt.legend()\n",
        "plt.show()"
      ],
      "metadata": {
        "colab": {
          "base_uri": "https://localhost:8080/",
          "height": 295
        },
        "id": "ChZiPct5j8be",
        "outputId": "d89eeb8a-74b0-4047-a3ba-71e8f2b0b915"
      },
      "execution_count": null,
      "outputs": [
        {
          "output_type": "display_data",
          "data": {
            "image/png": "[encoded data removed]",
            "text/plain": [
              "<Figure size 432x288 with 1 Axes>"
            ]
          },
          "metadata": {
            "needs_background": "light"
          }
        }
      ]
    },
    {
      "cell_type": "code",
      "source": [
        "model_tanh.fit(x_train, y_train, epochs=8, batch_size=512)\n",
        "results_tanh = model_tanh.evaluate(x_test, y_test)\n",
        "results_tanh"
      ],
      "metadata": {
        "colab": {
          "base_uri": "https://localhost:8080/"
        },
        "id": "XyNdC3rskB3s",
        "outputId": "7cc1d1ce-0f7d-4eb2-ee1a-51eca5c09705"
      },
      "execution_count": 14,
      "outputs": [
        {
          "output_type": "stream",
          "name": "stdout",
          "text": [
            "Epoch 1/8\n",
            "49/49 [==============================] - 1s 14ms/step - loss: 0.3061 - accuracy: 0.9433\n",
            "Epoch 2/8\n",
            "49/49 [==============================] - 1s 14ms/step - loss: 0.1483 - accuracy: 0.9611\n",
            "Epoch 3/8\n",
            "49/49 [==============================] - 1s 14ms/step - loss: 0.1146 - accuracy: 0.9662\n",
            "Epoch 4/8\n",
            "49/49 [==============================] - 1s 14ms/step - loss: 0.0932 - accuracy: 0.9713\n",
            "Epoch 5/8\n",
            "49/49 [==============================] - 1s 14ms/step - loss: 0.0794 - accuracy: 0.9757\n",
            "Epoch 6/8\n",
            "49/49 [==============================] - 1s 14ms/step - loss: 0.0690 - accuracy: 0.9790\n",
            "Epoch 7/8\n",
            "49/49 [==============================] - 1s 14ms/step - loss: 0.0571 - accuracy: 0.9828\n",
            "Epoch 8/8\n",
            "49/49 [==============================] - 1s 14ms/step - loss: 0.0505 - accuracy: 0.9846\n",
            "782/782 [==============================] - 3s 4ms/step - loss: 0.6608 - accuracy: 0.8510\n"
          ]
        },
        {
          "output_type": "execute_result",
          "data": {
            "text/plain": [
              "[0.660784900188446, 0.8510400056838989]"
            ]
          },
          "metadata": {},
          "execution_count": 14
        }
      ]
    },
    {
      "cell_type": "markdown",
      "source": [
        "Regularisation"
      ],
      "metadata": {
        "id": "-Xvq6YiZkvAN"
      }
    },
    {
      "cell_type": "code",
      "source": [
        "from tensorflow.keras import regularizers\n",
        "model_regularisation = keras.Sequential([\n",
        "    layers.Dense(16, activation=\"relu\",kernel_regularizer=regularizers.l2(0.001)),\n",
        "    layers.Dense(16, activation=\"relu\",kernel_regularizer=regularizers.l2(0.001)),\n",
        "    layers.Dense(1, activation=\"sigmoid\")\n",
        "])\n",
        "model_regularisation.compile(optimizer=\"rmsprop\",\n",
        "              loss=\"binary_crossentropy\",\n",
        "              metrics=[\"accuracy\"])\n",
        "history_model_regularisation = model_regularisation.fit(partial_x_train,\n",
        "                    partial_y_train,\n",
        "                    epochs=20,\n",
        "                    batch_size=512,\n",
        "                    validation_data=(x_val, y_val))\n",
        "history_dict_regularisation = history_model_regularisation.history\n",
        "history_dict_regularisation.keys()"
      ],
      "metadata": {
        "colab": {
          "base_uri": "https://localhost:8080/"
        },
        "id": "OtEHpgsDkyab",
        "outputId": "3f1eabb6-2890-4928-caa0-d4d31454775b"
      },
      "execution_count": 15,
      "outputs": [
        {
          "output_type": "stream",
          "name": "stdout",
          "text": [
            "Epoch 1/20\n",
            "30/30 [==============================] - 2s 38ms/step - loss: 0.5733 - accuracy: 0.7862 - val_loss: 0.4546 - val_accuracy: 0.8520\n",
            "Epoch 2/20\n",
            "30/30 [==============================] - 1s 22ms/step - loss: 0.3732 - accuracy: 0.8953 - val_loss: 0.3614 - val_accuracy: 0.8837\n",
            "Epoch 3/20\n",
            "30/30 [==============================] - 1s 23ms/step - loss: 0.2995 - accuracy: 0.9175 - val_loss: 0.3479 - val_accuracy: 0.8805\n",
            "Epoch 4/20\n",
            "30/30 [==============================] - 1s 22ms/step - loss: 0.2632 - accuracy: 0.9283 - val_loss: 0.3306 - val_accuracy: 0.8884\n",
            "Epoch 5/20\n",
            "30/30 [==============================] - 1s 25ms/step - loss: 0.2392 - accuracy: 0.9396 - val_loss: 0.3326 - val_accuracy: 0.8858\n",
            "Epoch 6/20\n",
            "30/30 [==============================] - 1s 26ms/step - loss: 0.2243 - accuracy: 0.9445 - val_loss: 0.3379 - val_accuracy: 0.8861\n",
            "Epoch 7/20\n",
            "30/30 [==============================] - 1s 22ms/step - loss: 0.2111 - accuracy: 0.9502 - val_loss: 0.3425 - val_accuracy: 0.8845\n",
            "Epoch 8/20\n",
            "30/30 [==============================] - 1s 26ms/step - loss: 0.2034 - accuracy: 0.9518 - val_loss: 0.4271 - val_accuracy: 0.8574\n",
            "Epoch 9/20\n",
            "30/30 [==============================] - 1s 22ms/step - loss: 0.1948 - accuracy: 0.9557 - val_loss: 0.3686 - val_accuracy: 0.8740\n",
            "Epoch 10/20\n",
            "30/30 [==============================] - 1s 21ms/step - loss: 0.1878 - accuracy: 0.9583 - val_loss: 0.3591 - val_accuracy: 0.8812\n",
            "Epoch 11/20\n",
            "30/30 [==============================] - 1s 22ms/step - loss: 0.1816 - accuracy: 0.9613 - val_loss: 0.4214 - val_accuracy: 0.8601\n",
            "Epoch 12/20\n",
            "30/30 [==============================] - 1s 22ms/step - loss: 0.1788 - accuracy: 0.9620 - val_loss: 0.3718 - val_accuracy: 0.8791\n",
            "Epoch 13/20\n",
            "30/30 [==============================] - 1s 22ms/step - loss: 0.1748 - accuracy: 0.9633 - val_loss: 0.3768 - val_accuracy: 0.8785\n",
            "Epoch 14/20\n",
            "30/30 [==============================] - 1s 22ms/step - loss: 0.1710 - accuracy: 0.9673 - val_loss: 0.3885 - val_accuracy: 0.8777\n",
            "Epoch 15/20\n",
            "30/30 [==============================] - 1s 25ms/step - loss: 0.1654 - accuracy: 0.9670 - val_loss: 0.4010 - val_accuracy: 0.8758\n",
            "Epoch 16/20\n",
            "30/30 [==============================] - 1s 22ms/step - loss: 0.1585 - accuracy: 0.9713 - val_loss: 0.4284 - val_accuracy: 0.8699\n",
            "Epoch 17/20\n",
            "30/30 [==============================] - 1s 22ms/step - loss: 0.1564 - accuracy: 0.9711 - val_loss: 0.4120 - val_accuracy: 0.8706\n",
            "Epoch 18/20\n",
            "30/30 [==============================] - 1s 22ms/step - loss: 0.1590 - accuracy: 0.9693 - val_loss: 0.4278 - val_accuracy: 0.8723\n",
            "Epoch 19/20\n",
            "30/30 [==============================] - 1s 25ms/step - loss: 0.1538 - accuracy: 0.9717 - val_loss: 0.4210 - val_accuracy: 0.8741\n",
            "Epoch 20/20\n",
            "30/30 [==============================] - 1s 22ms/step - loss: 0.1463 - accuracy: 0.9759 - val_loss: 0.4856 - val_accuracy: 0.8604\n"
          ]
        },
        {
          "output_type": "execute_result",
          "data": {
            "text/plain": [
              "dict_keys(['loss', 'accuracy', 'val_loss', 'val_accuracy'])"
            ]
          },
          "metadata": {},
          "execution_count": 15
        }
      ]
    },
    {
      "cell_type": "markdown",
      "source": [
        "Plotting graph between Training and Validation loss"
      ],
      "metadata": {
        "id": "i1kbB4rSeJbQ"
      }
    },
    {
      "cell_type": "code",
      "source": [
        "loss_values = history_dict_regularisation[\"loss\"]\n",
        "val_loss_values = history_dict_regularisation[\"val_loss\"]\n",
        "epochs = range(1, len(loss_values) + 1)\n",
        "plt.plot(epochs, loss_values, \"bo\", label=\"Training loss\")\n",
        "plt.plot(epochs, val_loss_values, \"b\", label=\"Validation loss\")\n",
        "plt.title(\"Training and validation loss\")\n",
        "plt.xlabel(\"Epochs\")\n",
        "plt.ylabel(\"Loss\")\n",
        "plt.legend()\n",
        "plt.show()"
      ],
      "metadata": {
        "colab": {
          "base_uri": "https://localhost:8080/",
          "height": 295
        },
        "id": "fM8t2AEAm6f7",
        "outputId": "5da506c3-8e3c-4d2c-923f-e8bd588c08ec"
      },
      "execution_count": null,
      "outputs": [
        {
          "output_type": "display_data",
          "data": {
            "image/png": "[encoded data removed]",
            "text/plain": [
              "<Figure size 432x288 with 1 Axes>"
            ]
          },
          "metadata": {
            "needs_background": "light"
          }
        }
      ]
    },
    {
      "cell_type": "markdown",
      "source": [
        "Plotting graph between Training and Validation accuracy"
      ],
      "metadata": {
        "id": "Ii4b6bleeMSR"
      }
    },
    {
      "cell_type": "code",
      "source": [
        "plt.clf()\n",
        "acc = history_dict_regularisation[\"accuracy\"]\n",
        "val_acc = history_dict_regularisation[\"val_accuracy\"]\n",
        "plt.plot(epochs, acc, \"bo\", label=\"Training acc\")\n",
        "plt.plot(epochs, val_acc, \"b\", label=\"Validation acc\")\n",
        "plt.title(\"Training and validation accuracy\")\n",
        "plt.xlabel(\"Epochs\")\n",
        "plt.ylabel(\"Accuracy\")\n",
        "plt.legend()\n",
        "plt.show()"
      ],
      "metadata": {
        "colab": {
          "base_uri": "https://localhost:8080/",
          "height": 295
        },
        "id": "WdO6oVYFm9Ki",
        "outputId": "4eb27ecc-2163-4ff6-c3ba-b65c9fbd796a"
      },
      "execution_count": null,
      "outputs": [
        {
          "output_type": "display_data",
          "data": {
            "image/png": "[encoded data removed]",
            "text/plain": [
              "<Figure size 432x288 with 1 Axes>"
            ]
          },
          "metadata": {
            "needs_background": "light"
          }
        }
      ]
    },
    {
      "cell_type": "code",
      "source": [
        "model_regularisation.fit(x_train, y_train, epochs=8, batch_size=512)\n",
        "results_regularisation = model_regularisation.evaluate(x_test, y_test)\n",
        "results_regularisation"
      ],
      "metadata": {
        "colab": {
          "base_uri": "https://localhost:8080/"
        },
        "id": "qlsaiGGtnZZv",
        "outputId": "05b2258e-4260-40e4-92cc-3f861b9bf466"
      },
      "execution_count": 16,
      "outputs": [
        {
          "output_type": "stream",
          "name": "stdout",
          "text": [
            "Epoch 1/8\n",
            "49/49 [==============================] - 1s 15ms/step - loss: 0.2523 - accuracy: 0.9338\n",
            "Epoch 2/8\n",
            "49/49 [==============================] - 1s 14ms/step - loss: 0.2156 - accuracy: 0.9435\n",
            "Epoch 3/8\n",
            "49/49 [==============================] - 1s 14ms/step - loss: 0.2045 - accuracy: 0.9466\n",
            "Epoch 4/8\n",
            "49/49 [==============================] - 1s 14ms/step - loss: 0.1972 - accuracy: 0.9498\n",
            "Epoch 5/8\n",
            "49/49 [==============================] - 1s 14ms/step - loss: 0.1922 - accuracy: 0.9523\n",
            "Epoch 6/8\n",
            "49/49 [==============================] - 1s 14ms/step - loss: 0.1851 - accuracy: 0.9550\n",
            "Epoch 7/8\n",
            "49/49 [==============================] - 1s 14ms/step - loss: 0.1844 - accuracy: 0.9543\n",
            "Epoch 8/8\n",
            "49/49 [==============================] - 1s 14ms/step - loss: 0.1827 - accuracy: 0.9555\n",
            "782/782 [==============================] - 3s 4ms/step - loss: 0.4186 - accuracy: 0.8699\n"
          ]
        },
        {
          "output_type": "execute_result",
          "data": {
            "text/plain": [
              "[0.41862916946411133, 0.8698800206184387]"
            ]
          },
          "metadata": {},
          "execution_count": 16
        }
      ]
    },
    {
      "cell_type": "markdown",
      "source": [
        "Dropout"
      ],
      "metadata": {
        "id": "D8tiB9KKnsS6"
      }
    },
    {
      "cell_type": "code",
      "source": [
        "from tensorflow.keras import regularizers\n",
        "model_Dropout = keras.Sequential([\n",
        "    layers.Dense(16, activation=\"relu\"),\n",
        "    layers.Dropout(0.5),\n",
        "    layers.Dense(16, activation=\"relu\"),\n",
        "    layers.Dropout(0.5),\n",
        "    layers.Dense(1, activation=\"sigmoid\")\n",
        "])\n",
        "model_Dropout.compile(optimizer=\"rmsprop\",\n",
        "              loss=\"binary_crossentropy\",\n",
        "              metrics=[\"accuracy\"])\n",
        "history_model_Dropout = model_Dropout.fit(partial_x_train,\n",
        "                    partial_y_train,\n",
        "                    epochs=20,\n",
        "                    batch_size=512,\n",
        "                    validation_data=(x_val, y_val))\n",
        "history_dict_Dropout = history_model_Dropout.history\n",
        "history_dict_Dropout.keys()"
      ],
      "metadata": {
        "colab": {
          "base_uri": "https://localhost:8080/"
        },
        "id": "H5M51_K2oPum",
        "outputId": "e3e541a2-ece7-4035-f79e-3e2a9a2a3a0f"
      },
      "execution_count": 17,
      "outputs": [
        {
          "output_type": "stream",
          "name": "stdout",
          "text": [
            "Epoch 1/20\n",
            "30/30 [==============================] - 3s 56ms/step - loss: 0.6021 - accuracy: 0.6778 - val_loss: 0.4554 - val_accuracy: 0.8469\n",
            "Epoch 2/20\n",
            "30/30 [==============================] - 1s 22ms/step - loss: 0.4550 - accuracy: 0.8065 - val_loss: 0.3570 - val_accuracy: 0.8763\n",
            "Epoch 3/20\n",
            "30/30 [==============================] - 1s 22ms/step - loss: 0.3739 - accuracy: 0.8557 - val_loss: 0.3196 - val_accuracy: 0.8832\n",
            "Epoch 4/20\n",
            "30/30 [==============================] - 1s 22ms/step - loss: 0.3199 - accuracy: 0.8857 - val_loss: 0.2936 - val_accuracy: 0.8830\n",
            "Epoch 5/20\n",
            "30/30 [==============================] - 1s 23ms/step - loss: 0.2769 - accuracy: 0.9011 - val_loss: 0.2707 - val_accuracy: 0.8919\n",
            "Epoch 6/20\n",
            "30/30 [==============================] - 1s 22ms/step - loss: 0.2405 - accuracy: 0.9175 - val_loss: 0.2786 - val_accuracy: 0.8886\n",
            "Epoch 7/20\n",
            "30/30 [==============================] - 1s 22ms/step - loss: 0.2122 - accuracy: 0.9293 - val_loss: 0.2952 - val_accuracy: 0.8888\n",
            "Epoch 8/20\n",
            "30/30 [==============================] - 1s 22ms/step - loss: 0.1892 - accuracy: 0.9384 - val_loss: 0.2886 - val_accuracy: 0.8917\n",
            "Epoch 9/20\n",
            "30/30 [==============================] - 1s 22ms/step - loss: 0.1692 - accuracy: 0.9447 - val_loss: 0.3009 - val_accuracy: 0.8927\n",
            "Epoch 10/20\n",
            "30/30 [==============================] - 1s 23ms/step - loss: 0.1532 - accuracy: 0.9507 - val_loss: 0.3330 - val_accuracy: 0.8902\n",
            "Epoch 11/20\n",
            "30/30 [==============================] - 1s 22ms/step - loss: 0.1387 - accuracy: 0.9551 - val_loss: 0.3417 - val_accuracy: 0.8916\n",
            "Epoch 12/20\n",
            "30/30 [==============================] - 1s 21ms/step - loss: 0.1204 - accuracy: 0.9614 - val_loss: 0.3935 - val_accuracy: 0.8783\n",
            "Epoch 13/20\n",
            "30/30 [==============================] - 1s 25ms/step - loss: 0.1164 - accuracy: 0.9629 - val_loss: 0.4007 - val_accuracy: 0.8882\n",
            "Epoch 14/20\n",
            "30/30 [==============================] - 1s 23ms/step - loss: 0.1118 - accuracy: 0.9661 - val_loss: 0.4089 - val_accuracy: 0.8874\n",
            "Epoch 15/20\n",
            "30/30 [==============================] - 1s 23ms/step - loss: 0.1010 - accuracy: 0.9678 - val_loss: 0.4538 - val_accuracy: 0.8862\n",
            "Epoch 16/20\n",
            "30/30 [==============================] - 1s 21ms/step - loss: 0.0951 - accuracy: 0.9685 - val_loss: 0.4724 - val_accuracy: 0.8859\n",
            "Epoch 17/20\n",
            "30/30 [==============================] - 1s 22ms/step - loss: 0.0883 - accuracy: 0.9697 - val_loss: 0.5024 - val_accuracy: 0.8862\n",
            "Epoch 18/20\n",
            "30/30 [==============================] - 1s 21ms/step - loss: 0.0924 - accuracy: 0.9703 - val_loss: 0.5103 - val_accuracy: 0.8873\n",
            "Epoch 19/20\n",
            "30/30 [==============================] - 1s 22ms/step - loss: 0.0874 - accuracy: 0.9736 - val_loss: 0.5116 - val_accuracy: 0.8871\n",
            "Epoch 20/20\n",
            "30/30 [==============================] - 1s 22ms/step - loss: 0.0770 - accuracy: 0.9736 - val_loss: 0.5816 - val_accuracy: 0.8868\n"
          ]
        },
        {
          "output_type": "execute_result",
          "data": {
            "text/plain": [
              "dict_keys(['loss', 'accuracy', 'val_loss', 'val_accuracy'])"
            ]
          },
          "metadata": {},
          "execution_count": 17
        }
      ]
    },
    {
      "cell_type": "markdown",
      "source": [
        "Plotting graph between Training and Validation loss"
      ],
      "metadata": {
        "id": "oTlSSvTbeTEM"
      }
    },
    {
      "cell_type": "code",
      "source": [
        "loss_values = history_dict_Dropout[\"loss\"]\n",
        "val_loss_values = history_dict_Dropout[\"val_loss\"]\n",
        "epochs = range(1, len(loss_values) + 1)\n",
        "plt.plot(epochs, loss_values, \"bo\", label=\"Training loss\")\n",
        "plt.plot(epochs, val_loss_values, \"b\", label=\"Validation loss\")\n",
        "plt.title(\"Training and validation loss\")\n",
        "plt.xlabel(\"Epochs\")\n",
        "plt.ylabel(\"Loss\")\n",
        "plt.legend()\n",
        "plt.show()"
      ],
      "metadata": {
        "colab": {
          "base_uri": "https://localhost:8080/",
          "height": 295
        },
        "id": "U3HKg6D5ofIW",
        "outputId": "90b1b9bf-6541-4a36-a11b-0ff6ab4d1ccd"
      },
      "execution_count": null,
      "outputs": [
        {
          "output_type": "display_data",
          "data": {
            "image/png": "[encoded data removed]",
            "text/plain": [
              "<Figure size 432x288 with 1 Axes>"
            ]
          },
          "metadata": {
            "needs_background": "light"
          }
        }
      ]
    },
    {
      "cell_type": "markdown",
      "source": [
        "Plotting graph between Training and Validation accuracy"
      ],
      "metadata": {
        "id": "DyNzNLgaeUoj"
      }
    },
    {
      "cell_type": "code",
      "source": [
        "plt.clf()\n",
        "acc = history_dict_Dropout[\"accuracy\"]\n",
        "val_acc = history_dict_Dropout[\"val_accuracy\"]\n",
        "plt.plot(epochs, acc, \"bo\", label=\"Training acc\")\n",
        "plt.plot(epochs, val_acc, \"b\", label=\"Validation acc\")\n",
        "plt.title(\"Training and validation accuracy\")\n",
        "plt.xlabel(\"Epochs\")\n",
        "plt.ylabel(\"Accuracy\")\n",
        "plt.legend()\n",
        "plt.show()"
      ],
      "metadata": {
        "colab": {
          "base_uri": "https://localhost:8080/",
          "height": 295
        },
        "id": "BpzCEAr-okJn",
        "outputId": "dd5da793-3f45-4687-db0f-c7511f7a7b63"
      },
      "execution_count": null,
      "outputs": [
        {
          "output_type": "display_data",
          "data": {
            "image/png": "[encoded data removed]",
            "text/plain": [
              "<Figure size 432x288 with 1 Axes>"
            ]
          },
          "metadata": {
            "needs_background": "light"
          }
        }
      ]
    },
    {
      "cell_type": "code",
      "source": [
        "model_Dropout.fit(x_train, y_train, epochs=8, batch_size=512)\n",
        "results_Dropout = model_Dropout.evaluate(x_test, y_test)\n",
        "results_Dropout"
      ],
      "metadata": {
        "colab": {
          "base_uri": "https://localhost:8080/"
        },
        "id": "btW8W7aQos4S",
        "outputId": "b7bc41c6-1dab-4517-ebc8-20f84794fab0"
      },
      "execution_count": 18,
      "outputs": [
        {
          "output_type": "stream",
          "name": "stdout",
          "text": [
            "Epoch 1/8\n",
            "49/49 [==============================] - 1s 15ms/step - loss: 0.2648 - accuracy: 0.9225\n",
            "Epoch 2/8\n",
            "49/49 [==============================] - 1s 14ms/step - loss: 0.2209 - accuracy: 0.9316\n",
            "Epoch 3/8\n",
            "49/49 [==============================] - 1s 14ms/step - loss: 0.1982 - accuracy: 0.9396\n",
            "Epoch 4/8\n",
            "49/49 [==============================] - 1s 15ms/step - loss: 0.1771 - accuracy: 0.9435\n",
            "Epoch 5/8\n",
            "49/49 [==============================] - 1s 14ms/step - loss: 0.1645 - accuracy: 0.9454\n",
            "Epoch 6/8\n",
            "49/49 [==============================] - 1s 14ms/step - loss: 0.1536 - accuracy: 0.9483\n",
            "Epoch 7/8\n",
            "49/49 [==============================] - 1s 14ms/step - loss: 0.1445 - accuracy: 0.9500\n",
            "Epoch 8/8\n",
            "49/49 [==============================] - 1s 14ms/step - loss: 0.1425 - accuracy: 0.9515\n",
            "782/782 [==============================] - 3s 4ms/step - loss: 0.5209 - accuracy: 0.8702\n"
          ]
        },
        {
          "output_type": "execute_result",
          "data": {
            "text/plain": [
              "[0.5208941102027893, 0.8701599836349487]"
            ]
          },
          "metadata": {},
          "execution_count": 18
        }
      ]
    },
    {
      "cell_type": "markdown",
      "source": [
        "Training the model with Hypertunned Parameters"
      ],
      "metadata": {
        "id": "hHmpsB6Ko4qJ"
      }
    },
    {
      "cell_type": "code",
      "source": [
        "from tensorflow.keras import regularizers\n",
        "model_Hyper = keras.Sequential([\n",
        "    layers.Dense(32, activation=\"relu\",kernel_regularizer=regularizers.l2(0.0001)),\n",
        "    layers.Dropout(0.5),    \n",
        "    layers.Dense(32, activation=\"relu\",kernel_regularizer=regularizers.l2(0.0001)),\n",
        "    layers.Dropout(0.5),\n",
        "    layers.Dense(16, activation=\"relu\",kernel_regularizer=regularizers.l2(0.0001)),\n",
        "    layers.Dropout(0.5),\n",
        "    layers.Dense(1, activation=\"sigmoid\")\n",
        "])\n",
        "model_Hyper.compile(optimizer=\"rmsprop\",\n",
        "              loss=\"mse\",\n",
        "              metrics=[\"accuracy\"])\n",
        "history_model_Hyper = model_Hyper.fit(partial_x_train,\n",
        "                    partial_y_train,\n",
        "                    epochs=20,\n",
        "                    batch_size=512,\n",
        "                    validation_data=(x_val, y_val))\n",
        "history_dict_Hyper = history_model_Hyper.history\n",
        "history_dict_Hyper.keys()"
      ],
      "metadata": {
        "colab": {
          "base_uri": "https://localhost:8080/"
        },
        "id": "_nvLsSQ4pMP9",
        "outputId": "142113f8-6aa0-466d-9e9b-1c8fbb08790d"
      },
      "execution_count": 21,
      "outputs": [
        {
          "output_type": "stream",
          "name": "stdout",
          "text": [
            "Epoch 1/20\n",
            "30/30 [==============================] - 2s 43ms/step - loss: 0.2422 - accuracy: 0.5995 - val_loss: 0.1846 - val_accuracy: 0.8424\n",
            "Epoch 2/20\n",
            "30/30 [==============================] - 1s 23ms/step - loss: 0.1832 - accuracy: 0.7563 - val_loss: 0.1312 - val_accuracy: 0.8463\n",
            "Epoch 3/20\n",
            "30/30 [==============================] - 1s 22ms/step - loss: 0.1395 - accuracy: 0.8343 - val_loss: 0.0986 - val_accuracy: 0.8834\n",
            "Epoch 4/20\n",
            "30/30 [==============================] - 1s 22ms/step - loss: 0.1078 - accuracy: 0.8831 - val_loss: 0.0932 - val_accuracy: 0.8864\n",
            "Epoch 5/20\n",
            "30/30 [==============================] - 1s 26ms/step - loss: 0.0904 - accuracy: 0.9033 - val_loss: 0.1001 - val_accuracy: 0.8789\n",
            "Epoch 6/20\n",
            "30/30 [==============================] - 1s 22ms/step - loss: 0.0779 - accuracy: 0.9218 - val_loss: 0.0966 - val_accuracy: 0.8883\n",
            "Epoch 7/20\n",
            "30/30 [==============================] - 1s 22ms/step - loss: 0.0681 - accuracy: 0.9330 - val_loss: 0.0989 - val_accuracy: 0.8871\n",
            "Epoch 8/20\n",
            "30/30 [==============================] - 1s 26ms/step - loss: 0.0612 - accuracy: 0.9427 - val_loss: 0.1014 - val_accuracy: 0.8870\n",
            "Epoch 9/20\n",
            "30/30 [==============================] - 1s 23ms/step - loss: 0.0561 - accuracy: 0.9481 - val_loss: 0.1033 - val_accuracy: 0.8859\n",
            "Epoch 10/20\n",
            "30/30 [==============================] - 1s 22ms/step - loss: 0.0507 - accuracy: 0.9522 - val_loss: 0.1072 - val_accuracy: 0.8851\n",
            "Epoch 11/20\n",
            "30/30 [==============================] - 1s 26ms/step - loss: 0.0473 - accuracy: 0.9557 - val_loss: 0.1056 - val_accuracy: 0.8860\n",
            "Epoch 12/20\n",
            "30/30 [==============================] - 1s 22ms/step - loss: 0.0454 - accuracy: 0.9589 - val_loss: 0.1066 - val_accuracy: 0.8838\n",
            "Epoch 13/20\n",
            "30/30 [==============================] - 1s 26ms/step - loss: 0.0437 - accuracy: 0.9602 - val_loss: 0.1084 - val_accuracy: 0.8816\n",
            "Epoch 14/20\n",
            "30/30 [==============================] - 1s 23ms/step - loss: 0.0436 - accuracy: 0.9609 - val_loss: 0.1083 - val_accuracy: 0.8817\n",
            "Epoch 15/20\n",
            "30/30 [==============================] - 1s 23ms/step - loss: 0.0409 - accuracy: 0.9637 - val_loss: 0.1103 - val_accuracy: 0.8799\n",
            "Epoch 16/20\n",
            "30/30 [==============================] - 1s 23ms/step - loss: 0.0413 - accuracy: 0.9629 - val_loss: 0.1300 - val_accuracy: 0.8591\n",
            "Epoch 17/20\n",
            "30/30 [==============================] - 1s 22ms/step - loss: 0.0406 - accuracy: 0.9639 - val_loss: 0.1114 - val_accuracy: 0.8825\n",
            "Epoch 18/20\n",
            "30/30 [==============================] - 1s 23ms/step - loss: 0.0405 - accuracy: 0.9642 - val_loss: 0.1117 - val_accuracy: 0.8809\n",
            "Epoch 19/20\n",
            "30/30 [==============================] - 1s 22ms/step - loss: 0.0405 - accuracy: 0.9623 - val_loss: 0.1147 - val_accuracy: 0.8777\n",
            "Epoch 20/20\n",
            "30/30 [==============================] - 1s 25ms/step - loss: 0.0400 - accuracy: 0.9635 - val_loss: 0.1151 - val_accuracy: 0.8784\n"
          ]
        },
        {
          "output_type": "execute_result",
          "data": {
            "text/plain": [
              "dict_keys(['loss', 'accuracy', 'val_loss', 'val_accuracy'])"
            ]
          },
          "metadata": {},
          "execution_count": 21
        }
      ]
    },
    {
      "cell_type": "markdown",
      "source": [
        "Plotting graph between Training and Validation loss"
      ],
      "metadata": {
        "id": "oTbLYoQwedwP"
      }
    },
    {
      "cell_type": "code",
      "source": [
        "loss_values = history_dict_Hyper[\"loss\"]\n",
        "val_loss_values = history_dict_Hyper[\"val_loss\"]\n",
        "epochs = range(1, len(loss_values) + 1)\n",
        "plt.plot(epochs, loss_values, \"bo\", label=\"Training loss\")\n",
        "plt.plot(epochs, val_loss_values, \"b\", label=\"Validation loss\")\n",
        "plt.title(\"Training and validation loss\")\n",
        "plt.xlabel(\"Epochs\")\n",
        "plt.ylabel(\"Loss\")\n",
        "plt.legend()\n",
        "plt.show()"
      ],
      "metadata": {
        "colab": {
          "base_uri": "https://localhost:8080/",
          "height": 295
        },
        "id": "9WjmMgYIpgKr",
        "outputId": "a9a6985c-2548-4851-d2d8-e861da838398"
      },
      "execution_count": null,
      "outputs": [
        {
          "output_type": "display_data",
          "data": {
            "image/png": "[encoded data removed]",
            "text/plain": [
              "<Figure size 432x288 with 1 Axes>"
            ]
          },
          "metadata": {
            "needs_background": "light"
          }
        }
      ]
    },
    {
      "cell_type": "markdown",
      "source": [
        "Plotting graph between Training and Validation accuracy"
      ],
      "metadata": {
        "id": "yIQHBxmree1P"
      }
    },
    {
      "cell_type": "code",
      "source": [
        "plt.clf()\n",
        "acc = history_dict_Hyper[\"accuracy\"]\n",
        "val_acc = history_dict_Hyper[\"val_accuracy\"]\n",
        "plt.plot(epochs, acc, \"bo\", label=\"Training acc\")\n",
        "plt.plot(epochs, val_acc, \"b\", label=\"Validation acc\")\n",
        "plt.title(\"Training and validation accuracy\")\n",
        "plt.xlabel(\"Epochs\")\n",
        "plt.ylabel(\"Accuracy\")\n",
        "plt.legend()\n",
        "plt.show()"
      ],
      "metadata": {
        "colab": {
          "base_uri": "https://localhost:8080/",
          "height": 295
        },
        "id": "GW5hw4wxp0ss",
        "outputId": "7de39055-3b4c-4220-d37f-be51feb02e06"
      },
      "execution_count": null,
      "outputs": [
        {
          "output_type": "display_data",
          "data": {
            "image/png": "[encoded data removed]",
            "text/plain": [
              "<Figure size 432x288 with 1 Axes>"
            ]
          },
          "metadata": {
            "needs_background": "light"
          }
        }
      ]
    },
    {
      "cell_type": "code",
      "source": [
        "model_Hyper.fit(x_train, y_train, epochs=8, batch_size=512)\n",
        "results_Hyper = model_Hyper.evaluate(x_test, y_test)\n",
        "results_Hyper"
      ],
      "metadata": {
        "colab": {
          "base_uri": "https://localhost:8080/"
        },
        "id": "EXeu_Cqmp_So",
        "outputId": "6cfb9539-a97b-4946-c06a-874c63ba581b"
      },
      "execution_count": 22,
      "outputs": [
        {
          "output_type": "stream",
          "name": "stdout",
          "text": [
            "Epoch 1/8\n",
            "49/49 [==============================] - 1s 15ms/step - loss: 0.0731 - accuracy: 0.9233\n",
            "Epoch 2/8\n",
            "49/49 [==============================] - 1s 15ms/step - loss: 0.0668 - accuracy: 0.9302\n",
            "Epoch 3/8\n",
            "49/49 [==============================] - 1s 15ms/step - loss: 0.0618 - accuracy: 0.9367\n",
            "Epoch 4/8\n",
            "49/49 [==============================] - 1s 15ms/step - loss: 0.0596 - accuracy: 0.9386\n",
            "Epoch 5/8\n",
            "49/49 [==============================] - 1s 15ms/step - loss: 0.0581 - accuracy: 0.9423\n",
            "Epoch 6/8\n",
            "49/49 [==============================] - 1s 15ms/step - loss: 0.0553 - accuracy: 0.9449\n",
            "Epoch 7/8\n",
            "49/49 [==============================] - 1s 15ms/step - loss: 0.0552 - accuracy: 0.9442\n",
            "Epoch 8/8\n",
            "49/49 [==============================] - 1s 15ms/step - loss: 0.0547 - accuracy: 0.9449\n",
            "782/782 [==============================] - 3s 4ms/step - loss: 0.1142 - accuracy: 0.8746\n"
          ]
        },
        {
          "output_type": "execute_result",
          "data": {
            "text/plain": [
              "[0.11417917907238007, 0.8745599985122681]"
            ]
          },
          "metadata": {},
          "execution_count": 22
        }
      ]
    },
    {
      "cell_type": "markdown",
      "source": [
        "Summary of all models"
      ],
      "metadata": {
        "id": "XLRYw0ZGexTR"
      }
    },
    {
      "cell_type": "code",
      "source": [
        "All_Loss= np.array([results_Dropout[0],results_Hyper[0],results_MSE[0],results_regularisation[0],results_tanh[0]])*100\n",
        "All_Loss\n",
        "All_Accuracy= np.array([results_Dropout[1],results_Hyper[1],results_MSE[1],results_regularisation[1],results_tanh[1]])*100\n",
        "All_Accuracy\n",
        "Labels=['Model_Dropout','Model_Hyper','Model_MSE','model_regularisation','model_tanh']\n",
        "\n",
        "plt.clf()"
      ],
      "metadata": {
        "colab": {
          "base_uri": "https://localhost:8080/",
          "height": 34
        },
        "id": "LXTRNJr_e6a9",
        "outputId": "30b490a3-aaba-4797-bcaf-b97fb024ea06"
      },
      "execution_count": 23,
      "outputs": [
        {
          "output_type": "display_data",
          "data": {
            "text/plain": [
              "<Figure size 432x288 with 0 Axes>"
            ]
          },
          "metadata": {}
        }
      ]
    },
    {
      "cell_type": "markdown",
      "source": [
        "Comparing all models using graph"
      ],
      "metadata": {
        "id": "suqKLAuqj7I1"
      }
    },
    {
      "cell_type": "code",
      "source": [
        "fig, ax = plt.subplots()\n",
        "ax.scatter(All_Loss,All_Accuracy)\n",
        "for i, txt in enumerate(Labels):\n",
        "    ax.annotate(txt, (All_Loss[i],All_Accuracy[i] ))\n",
        "plt.title(\"Summary for Accuracy and Loss\")\n",
        "plt.ylabel(\"Accuracy\")\n",
        "plt.xlabel(\"Loss\")\n",
        "\n",
        "plt.show()"
      ],
      "metadata": {
        "colab": {
          "base_uri": "https://localhost:8080/",
          "height": 295
        },
        "id": "hC5QP6-olGyx",
        "outputId": "9aa0c495-e3ae-44e4-dc52-ff223f50eec6"
      },
      "execution_count": 24,
      "outputs": [
        {
          "output_type": "display_data",
          "data": {
            "image/png": "[encoded data removed]",
            "text/plain": [
              "<Figure size 432x288 with 1 Axes>"
            ]
          },
          "metadata": {
            "needs_background": "light"
          }
        }
      ]
    },
    {
      "cell_type": "markdown",
      "source": [
        "**Conclusion:**\n",
        "\n",
        "From graph we can say that Maximun accuracy and loss were achieved using Model_Hyper. We employed three thick layers (32,32,16) with a drop out rate of 0.5 for each. We utilize MSE to compare the model MSE loss to any other model (other than Final Hypertuned Model) With MSE, we observe that the loss is negligible."
      ],
      "metadata": {
        "id": "-fWYk1Z4kNGP"
      }
    },
    {
      "cell_type": "markdown",
      "source": [
        "Units: As we raise the unit from 16, 32, 64, 128, we can observe that the accuracy changes very little while the loss function decreases.\n",
        "\n",
        "Hidden Layers: We found that increasing the number of hidden layers from 1 to 3 had no effect on loss function accuracy or deflection.\n",
        "\n",
        "Loss Function: When \"mse\" is used as the loss function for the IMDB dataset, the loss value is minimal when compared to binary cross entropy.\n",
        "\n",
        "Activation Function: The model's tanh activation function has a low accuracy, which lowers performance owing to the vanishing gradient problem.\n",
        "\n",
        "Regularization: When compared to the initial model, regularization results in a much smaller loss with less overfitting, with the L-2 model demonstrating somewhat superior accuracy.\n",
        "\n",
        "Dropout: The dropout also aids in achieving a smaller loss function but has no effect on accuracy."
      ],
      "metadata": {
        "id": "SaCstRTXk2pr"
      }
    }
  ]
}